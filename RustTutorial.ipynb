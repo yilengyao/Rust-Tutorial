{
 "cells": [
  {
   "cell_type": "markdown",
   "id": "389dc76c-8b1e-409f-b582-f919f83cee3a",
   "metadata": {},
   "source": [
    "## Installation\n",
    "\n",
    "```\n",
    "curl --proto '=https' --tlsv1.2 -sSf https://sh.rustup.rs | sh\n",
    "```\n",
    "\n",
    "Add following to   \n",
    "- ~/.profile\n",
    "- ~/.bash_profile\n",
    "- ~/.zshenv\n",
    "- ~/.zshrc\n",
    "```\n",
    "export PATH=\"$HOME/.cargo/bin:$PATH\"\n",
    "```\n",
    "Then run\n",
    "```\n",
    "source ~/.profile\n",
    "source ~/.bash_profile\n",
    "source ~/.zshenv\n",
    "source ~/.zshrc\n",
    "```"
   ]
  },
  {
   "cell_type": "markdown",
   "id": "f7e4b86a-b24b-4862-9740-1f980be8c05c",
   "metadata": {},
   "source": [
    "### Installing rust kernel on jupyter\n",
    "\n",
    "```\n",
    "cargo install --locked evcxr_jupyter\n",
    "evcxr_jupyter --install\n",
    "rustup component add rust-src\n",
    "```"
   ]
  },
  {
   "cell_type": "markdown",
   "id": "79e9fd44-93b9-473f-8f62-88e3e04e533f",
   "metadata": {},
   "source": [
    "## Primative Data Types\n",
    "Rust is a statically typed programming language.\n",
    "The primitive data type are also called scalar data type.\n",
    "- int\n",
    "- float\n",
    "- bool\n",
    "- char\n",
    "\n",
    "### Integer\n",
    "Rust has signed (+ and -) and unsigned integer (only+) types of different sizes.\n",
    "- Signed integers: i8, i16, i32, i64, i128\n",
    "- Unsigned integers: u8, u16, u32, u64, u128"
   ]
  },
  {
   "cell_type": "code",
   "execution_count": 13,
   "id": "0aa052ed-3040-4c47-85b6-75b698085418",
   "metadata": {},
   "outputs": [
    {
     "name": "stdout",
     "output_type": "stream",
     "text": [
      "Signed Integer: -42\n",
      "Unsigned Integer: 100\n"
     ]
    }
   ],
   "source": [
    "let x: i32 = -42;\n",
    "let y: u64 = 100;\n",
    "println!(\"Signed Integer: {}\", x);\n",
    "println!(\"Unsigned Integer: {}\", y);"
   ]
  },
  {
   "cell_type": "markdown",
   "id": "2ae36b7a-f527-4c02-bd30-01d694d6f4c8",
   "metadata": {},
   "source": [
    "The difference is i32(32 bits) and i64(64 bits)\n",
    "Range:\n",
    "- i32: -2^31 to 2^31 - 1\n",
    "- i64: -2^63 to 2^63 - 1"
   ]
  },
  {
   "cell_type": "code",
   "execution_count": 17,
   "id": "cd1f4a0b-1e88-473c-be50-0ef7580bf76d",
   "metadata": {},
   "outputs": [
    {
     "name": "stdout",
     "output_type": "stream",
     "text": [
      "Maximum value of i32: 2147483647\n",
      "Maximum value of i64: 9223372036854775807\n"
     ]
    }
   ],
   "source": [
    "let e: i32 = 2147483647;\n",
    "let i: i64 = 9223372036854775807;\n",
    "println!(\"Maximum value of i32: {}\", e);\n",
    "println!(\"Maximum value of i64: {}\", i);"
   ]
  },
  {
   "cell_type": "markdown",
   "id": "d7b7cadf-d159-441d-8f7d-a5cb23175773",
   "metadata": {},
   "source": [
    "### Floats\n",
    "Floats represent numbers with fractional parts.\n",
    "f32, f64"
   ]
  },
  {
   "cell_type": "code",
   "execution_count": 18,
   "id": "2a984d58-9ea8-45eb-ad43-f08fb11d67b8",
   "metadata": {},
   "outputs": [
    {
     "name": "stdout",
     "output_type": "stream",
     "text": [
      "Value of pi: 3.14\n"
     ]
    }
   ],
   "source": [
    "let pi: f64 = 3.14;\n",
    "println!(\"Value of pi: {}\", pi);"
   ]
  },
  {
   "cell_type": "markdown",
   "id": "508745e2-fc4b-408d-812a-2489d0332ef1",
   "metadata": {},
   "source": [
    "### Boolean\n",
    "boolean values are either true or false."
   ]
  },
  {
   "cell_type": "code",
   "execution_count": 20,
   "id": "7144f3b1-3ba0-4bb9-b0b4-71829d6657a2",
   "metadata": {},
   "outputs": [
    {
     "name": "stdout",
     "output_type": "stream",
     "text": [
      "Is it snowing? true\n"
     ]
    },
    {
     "data": {
      "text/plain": [
       "()"
      ]
     },
     "execution_count": 20,
     "metadata": {},
     "output_type": "execute_result"
    }
   ],
   "source": [
    "let is_snowing: bool = true;\n",
    "println!(\"Is it snowing? {}\", is_snowing)"
   ]
  },
  {
   "cell_type": "markdown",
   "id": "c2913f73-b210-4132-9272-dd6525a3e31e",
   "metadata": {},
   "source": [
    "### Character\n",
    "Character type actually represents a single unicode scalar value.\n",
    "char"
   ]
  },
  {
   "cell_type": "code",
   "execution_count": 21,
   "id": "8e43d49d-4766-4fdc-ae1b-1e9e75e0b33a",
   "metadata": {},
   "outputs": [
    {
     "name": "stdout",
     "output_type": "stream",
     "text": [
      "First letter of the alphabet: a\n"
     ]
    }
   ],
   "source": [
    "let letter: char = 'a';\n",
    "println!(\"First letter of the alphabet: {}\", letter);"
   ]
  },
  {
   "cell_type": "markdown",
   "id": "5d488e73-bcbe-4c9c-bed5-77c4be6cffa6",
   "metadata": {},
   "source": [
    "## Compound Data Types\n",
    "Compound data types in rust is categorized into 4 groups.\n",
    "- arrays\n",
    "- tuples\n",
    "- slices\n",
    "- strings (slice string)\n",
    "\n",
    "### Arrays\n",
    "Arrays are a fixed size collection of elements of the same type. We defined and initialize with square brackets.\n",
    "\n",
    "The type is defined in square brackets \"[type: size]\""
   ]
  },
  {
   "cell_type": "code",
   "execution_count": 40,
   "id": "f7ba1a2b-7fc2-4c75-91cd-36e2fab05a43",
   "metadata": {},
   "outputs": [
    {
     "name": "stdout",
     "output_type": "stream",
     "text": [
      "Number Array: [0, 0, 0, 0, 0]\n",
      "Initialized Numer Array: [1, 2, 3, 4, 5]\n"
     ]
    }
   ],
   "source": [
    "let numbers: [i32; 5] = Default::default();\n",
    "println!(\"Number Array: {:?}\", numbers);\n",
    "\n",
    "let initializedNumbers: [i32; 5] = [1, 2, 3, 4, 5];\n",
    "println!(\"Initialized Numer Array: {:?}\", initializedNumbers);"
   ]
  },
  {
   "cell_type": "code",
   "execution_count": 41,
   "id": "202e46ab-393d-49e8-826f-1a0cc87c2990",
   "metadata": {},
   "outputs": [
    {
     "ename": "Error",
     "evalue": "mismatched types",
     "output_type": "error",
     "traceback": [
      "\u001b[31m[E0308] Error:\u001b[0m mismatched types",
      "   \u001b[38;5;246m╭\u001b[0m\u001b[38;5;246m─\u001b[0m\u001b[38;5;246m[\u001b[0mcommand_41:1:1\u001b[38;5;246m]\u001b[0m",
      "   \u001b[38;5;246m│\u001b[0m",
      " \u001b[38;5;246m1 │\u001b[0m \u001b[38;5;249ml\u001b[0m\u001b[38;5;249me\u001b[0m\u001b[38;5;249mt\u001b[0m\u001b[38;5;249m \u001b[0m\u001b[38;5;249mm\u001b[0m\u001b[38;5;249mi\u001b[0m\u001b[38;5;249mx\u001b[0m\u001b[38;5;249m \u001b[0m\u001b[38;5;249m=\u001b[0m\u001b[38;5;249m \u001b[0m\u001b[38;5;249m[\u001b[0m\u001b[38;5;249m1\u001b[0m\u001b[38;5;249m,\u001b[0m\u001b[38;5;249m \u001b[0m\u001b[38;5;249m2\u001b[0m\u001b[38;5;249m,\u001b[0m\u001b[38;5;249m \u001b[0m\u001b[38;5;54m\"\u001b[0m\u001b[38;5;54ma\u001b[0m\u001b[38;5;54mp\u001b[0m\u001b[38;5;54mp\u001b[0m\u001b[38;5;54ml\u001b[0m\u001b[38;5;54me\u001b[0m\u001b[38;5;54m\"\u001b[0m\u001b[38;5;249m,\u001b[0m\u001b[38;5;249m \u001b[0m\u001b[38;5;249mt\u001b[0m\u001b[38;5;249mr\u001b[0m\u001b[38;5;249mu\u001b[0m\u001b[38;5;249me\u001b[0m\u001b[38;5;249m]\u001b[0m\u001b[38;5;249m;\u001b[0m",
      " \u001b[38;5;240m  │\u001b[0m                  \u001b[38;5;54m─\u001b[0m\u001b[38;5;54m─\u001b[0m\u001b[38;5;54m─\u001b[0m\u001b[38;5;54m┬\u001b[0m\u001b[38;5;54m─\u001b[0m\u001b[38;5;54m─\u001b[0m\u001b[38;5;54m─\u001b[0m  ",
      " \u001b[38;5;240m  │\u001b[0m                     \u001b[38;5;54m╰\u001b[0m\u001b[38;5;54m─\u001b[0m\u001b[38;5;54m─\u001b[0m\u001b[38;5;54m─\u001b[0m\u001b[38;5;54m─\u001b[0m\u001b[38;5;54m─\u001b[0m expected integer, found `&str`",
      "\u001b[38;5;246m───╯\u001b[0m"
     ]
    }
   ],
   "source": [
    "let mix = [1, 2, \"apple\", true];\n",
    "println!(\"Mix Array: {:?}\", mix);"
   ]
  },
  {
   "cell_type": "code",
   "execution_count": 45,
   "id": "a7b9c507-878e-4b7e-89b7-331e7bdb2344",
   "metadata": {},
   "outputs": [
    {
     "name": "stdout",
     "output_type": "stream",
     "text": [
      "Fruits Array: [\"Apple\", \"Banana\", \"Orange\"]\n",
      "Fruits Array: Apple\n",
      "Fruits Array: Banana\n",
      "Fruits Array: Orange\n"
     ]
    }
   ],
   "source": [
    "let fruits: [&str; 3] = [\"Apple\", \"Banana\", \"Orange\"];\n",
    "println!(\"Fruits Array: {:?}\", fruits);\n",
    "println!(\"Fruits Array: {}\", fruits[0]);\n",
    "println!(\"Fruits Array: {}\", fruits[1]);\n",
    "println!(\"Fruits Array: {}\", fruits[2]);"
   ]
  },
  {
   "cell_type": "markdown",
   "id": "d484c3fe-c062-49a7-8017-011c4a48ddc6",
   "metadata": {},
   "source": [
    "### Tuples\n",
    "Tuples contains heterogenous collection of elements of fixed size. \n",
    "We declare and initialze with round brackets."
   ]
  },
  {
   "cell_type": "code",
   "execution_count": 53,
   "id": "d68a9b06-0989-4610-abd0-ed479385ebbf",
   "metadata": {},
   "outputs": [
    {
     "name": "stdout",
     "output_type": "stream",
     "text": [
      "Human (\"Alice\", 30, false)\n"
     ]
    }
   ],
   "source": [
    "let human = (\"Alice\", 30, false);\n",
    "println!(\"Human {:?}\", human);"
   ]
  },
  {
   "cell_type": "code",
   "execution_count": 52,
   "id": "c61b536b-1d6b-4391-bb83-041d9c3936e1",
   "metadata": {},
   "outputs": [
    {
     "ename": "Error",
     "evalue": "mismatched types",
     "output_type": "error",
     "traceback": [
      "\u001b[31m[E0308] Error:\u001b[0m mismatched types",
      "   \u001b[38;5;246m╭\u001b[0m\u001b[38;5;246m─\u001b[0m\u001b[38;5;246m[\u001b[0mcommand_52:1:1\u001b[38;5;246m]\u001b[0m",
      "   \u001b[38;5;246m│\u001b[0m",
      " \u001b[38;5;246m1 │\u001b[0m \u001b[38;5;249ml\u001b[0m\u001b[38;5;249me\u001b[0m\u001b[38;5;249mt\u001b[0m\u001b[38;5;249m \u001b[0m\u001b[38;5;249mh\u001b[0m\u001b[38;5;249mu\u001b[0m\u001b[38;5;249mm\u001b[0m\u001b[38;5;249ma\u001b[0m\u001b[38;5;249mn\u001b[0m\u001b[38;5;249m:\u001b[0m\u001b[38;5;249m \u001b[0m\u001b[38;5;249m(\u001b[0m\u001b[38;5;249mS\u001b[0m\u001b[38;5;249mt\u001b[0m\u001b[38;5;249mr\u001b[0m\u001b[38;5;249mi\u001b[0m\u001b[38;5;249mn\u001b[0m\u001b[38;5;249mg\u001b[0m\u001b[38;5;249m,\u001b[0m\u001b[38;5;249m \u001b[0m\u001b[38;5;249mi\u001b[0m\u001b[38;5;249m3\u001b[0m\u001b[38;5;249m2\u001b[0m\u001b[38;5;249m,\u001b[0m\u001b[38;5;249m \u001b[0m\u001b[38;5;249mb\u001b[0m\u001b[38;5;249mo\u001b[0m\u001b[38;5;249mo\u001b[0m\u001b[38;5;249ml\u001b[0m\u001b[38;5;249m)\u001b[0m\u001b[38;5;249m \u001b[0m\u001b[38;5;249m=\u001b[0m\u001b[38;5;249m \u001b[0m\u001b[38;5;249m(\u001b[0m\u001b[38;5;54m\"\u001b[0m\u001b[38;5;54mA\u001b[0m\u001b[38;5;54ml\u001b[0m\u001b[38;5;54mi\u001b[0m\u001b[38;5;54mc\u001b[0m\u001b[38;5;54me\u001b[0m\u001b[38;5;54m\"\u001b[0m\u001b[38;5;249m,\u001b[0m\u001b[38;5;249m \u001b[0m\u001b[38;5;249m3\u001b[0m\u001b[38;5;249m0\u001b[0m\u001b[38;5;249m,\u001b[0m\u001b[38;5;249m \u001b[0m\u001b[38;5;249mf\u001b[0m\u001b[38;5;249ma\u001b[0m\u001b[38;5;249ml\u001b[0m\u001b[38;5;249ms\u001b[0m\u001b[38;5;249me\u001b[0m\u001b[38;5;249m)\u001b[0m\u001b[38;5;249m;\u001b[0m",
      " \u001b[38;5;240m  │\u001b[0m                                   \u001b[38;5;54m─\u001b[0m\u001b[38;5;54m─\u001b[0m\u001b[38;5;54m─\u001b[0m\u001b[38;5;54m┬\u001b[0m\u001b[38;5;54m─\u001b[0m\u001b[38;5;54m─\u001b[0m\u001b[38;5;54m─\u001b[0m\u001b[38;5;100m│\u001b[0m ",
      " \u001b[38;5;240m  │\u001b[0m                                      \u001b[38;5;54m╰\u001b[0m\u001b[38;5;54m─\u001b[0m\u001b[38;5;54m─\u001b[0m\u001b[38;5;54m─\u001b[0m\u001b[38;5;54m─\u001b[0m\u001b[38;5;54m─\u001b[0m expected `String`, found `&str`",
      " \u001b[38;5;240m  │\u001b[0m                                          \u001b[38;5;100m│\u001b[0m ",
      " \u001b[38;5;240m  │\u001b[0m                                          \u001b[38;5;100m╰\u001b[0m\u001b[38;5;100m─\u001b[0m help: try using a conversion method: `.to_string()`",
      "\u001b[38;5;246m───╯\u001b[0m"
     ]
    }
   ],
   "source": [
    "let human: (String, i32, bool) = (\"Alice\", 30, false);\n",
    "println!(\"Human {:?}\", human);"
   ]
  },
  {
   "cell_type": "markdown",
   "id": "4572e0cb-0311-469a-8793-97abb32cd021",
   "metadata": {},
   "source": [
    "This is because \"Alice\" is not a string, its a string slice. To convert it to a string we use `.to_string()`."
   ]
  },
  {
   "cell_type": "code",
   "execution_count": 54,
   "id": "974c9845-4fca-4bce-a268-a21a9f7eeec1",
   "metadata": {},
   "outputs": [
    {
     "name": "stdout",
     "output_type": "stream",
     "text": [
      "Human (\"Alice\", 30, false)\n"
     ]
    }
   ],
   "source": [
    "let human: (String, i32, bool) = (\"Alice\".to_string(), 30, false);\n",
    "println!(\"Human {:?}\", human);"
   ]
  },
  {
   "cell_type": "code",
   "execution_count": 55,
   "id": "85679f02-d896-443c-a0a7-03a3d32deb15",
   "metadata": {},
   "outputs": [
    {
     "name": "stdout",
     "output_type": "stream",
     "text": [
      "My Mix Tuple: (\"Kratos\", 23, true, [1, 2, 3, 4, 5])\n"
     ]
    }
   ],
   "source": [
    "let my_mix_tuple = (\"Kratos\", 23, true, [1,2,3,4,5]);\n",
    "println!(\"My Mix Tuple: {:?}\", my_mix_tuple); "
   ]
  },
  {
   "cell_type": "markdown",
   "id": "67fadbab-5502-424b-9a77-99a4fb6df8e7",
   "metadata": {},
   "source": [
    "### Slices\n",
    "Slices are dynamically sized view into a contigous sequence of elements.\n",
    "\n",
    "Slices: [1,2,3,4,5]\n",
    "\n",
    "Contigous: uninterupted, adjacent to each other.\n",
    "\n",
    "contigous is special term in the context of memory, the memory doesn't need to jump between memories. It is good for memory allocation and memory efficiency.\n",
    "\n",
    "Slices are defined by an `ampersand` followed by square bracket `&[...]`"
   ]
  },
  {
   "cell_type": "code",
   "execution_count": 62,
   "id": "0204aaff-1555-4169-a728-cdacb0dc7d6e",
   "metadata": {},
   "outputs": [
    {
     "name": "stdout",
     "output_type": "stream",
     "text": [
      "Number Slice [1, 2, 3, 4, 5]\n"
     ]
    }
   ],
   "source": [
    "let number_slices: &[i32] = &[1,2,3,4,5];\n",
    "println!(\"Number Slice {:?}\", number_slices);"
   ]
  },
  {
   "cell_type": "code",
   "execution_count": 69,
   "id": "a41d3d33-cada-4ecb-bdff-aea5821dbc27",
   "metadata": {},
   "outputs": [
    {
     "name": "stdout",
     "output_type": "stream",
     "text": [
      "Animal Slice [\"Lion\", \"Elephant\", \"Crocodile\"]\n"
     ]
    }
   ],
   "source": [
    "let animal_slices: &[&str] = &[\"Lion\", \"Elephant\", \"Crocodile\"];\n",
    "println!(\"Animal Slice {:?}\", animal_slices);"
   ]
  },
  {
   "cell_type": "code",
   "execution_count": 86,
   "id": "4fa4afc2-de27-40f6-a1e2-d877765ba457",
   "metadata": {
    "scrolled": true
   },
   "outputs": [
    {
     "name": "stdout",
     "output_type": "stream",
     "text": [
      "Book Slice [\"IT\", \"Harry Potter\", \"ZEN\"]\n"
     ]
    },
    {
     "data": {
      "text/plain": [
       "()"
      ]
     },
     "execution_count": 86,
     "metadata": {},
     "output_type": "execute_result"
    }
   ],
   "source": [
    "{\n",
    "    let book_slices: &[&String] = &[&\"IT\".to_string(), &\"Harry Potter\".to_string(), &\"ZEN\".to_string()];\n",
    "    println!(\"Book Slice {:?}\", book_slices);\n",
    "}"
   ]
  },
  {
   "cell_type": "markdown",
   "id": "b6c76ea8-ae94-4b0f-a526-0ae7e67dc5a6",
   "metadata": {},
   "source": [
    "#### Strings vs String Slices (&str)\n",
    "The difference is the strings are growable, expandable, you can increase or decrease them if you want.\n",
    "That means that they are mutable.\n",
    "\n",
    "They are owned string types, which means that they are not borrowed.\n",
    "\n",
    "String [growable, mutable, owned string type]\n",
    "\n",
    "If you declare a string, it will be allocated to the heap. That means that the string objects can grow and shrink in size as needed dynamically(not fixed), you can add to it, delete from it. That means that memory allocation is made dynamically in the heap. Which makes it really slow to access because its not fixed, it wide and big because it is not in a contigous block of memory.\n",
    "\n",
    "Every datatype in Rust by default is immutable."
   ]
  },
  {
   "cell_type": "code",
   "execution_count": 80,
   "id": "12f1b1f3-3393-4fb9-9d02-9d8712d8e7de",
   "metadata": {},
   "outputs": [
    {
     "name": "stdout",
     "output_type": "stream",
     "text": [
      "Stone Cold Says: Hell, \n"
     ]
    }
   ],
   "source": [
    "let stone_cold: String = String::from(\"Hell, \");\n",
    "println!(\"Stone Cold Says: {}\", stone_cold);"
   ]
  },
  {
   "cell_type": "markdown",
   "id": "1f9688db-9f8c-4e1f-b67a-0c6943ad41dd",
   "metadata": {},
   "source": [
    "This stone_cold variable is stored on the Heap memory, both the Heap and Stack are memory."
   ]
  },
  {
   "cell_type": "code",
   "execution_count": 82,
   "id": "3865a464-d6df-464e-b353-2baf90707d5d",
   "metadata": {},
   "outputs": [
    {
     "ename": "Error",
     "evalue": "cannot borrow `stone_cold` as mutable, as it is not declared as mutable",
     "output_type": "error",
     "traceback": [
      "\u001b[31m[E0596] Error:\u001b[0m cannot borrow `stone_cold` as mutable, as it is not declared as mutable",
      "   \u001b[38;5;246m╭\u001b[0m\u001b[38;5;246m─\u001b[0m\u001b[38;5;246m[\u001b[0mcommand_82:1:1\u001b[38;5;246m]\u001b[0m",
      "   \u001b[38;5;246m│\u001b[0m",
      " \u001b[38;5;246m1 │\u001b[0m \u001b[38;5;54ms\u001b[0m\u001b[38;5;54mt\u001b[0m\u001b[38;5;54mo\u001b[0m\u001b[38;5;54mn\u001b[0m\u001b[38;5;54me\u001b[0m\u001b[38;5;54m_\u001b[0m\u001b[38;5;54mc\u001b[0m\u001b[38;5;54mo\u001b[0m\u001b[38;5;54ml\u001b[0m\u001b[38;5;54md\u001b[0m\u001b[38;5;249m.\u001b[0m\u001b[38;5;249mp\u001b[0m\u001b[38;5;249mu\u001b[0m\u001b[38;5;249ms\u001b[0m\u001b[38;5;249mh\u001b[0m\u001b[38;5;249m_\u001b[0m\u001b[38;5;249ms\u001b[0m\u001b[38;5;249mt\u001b[0m\u001b[38;5;249mr\u001b[0m\u001b[38;5;249m(\u001b[0m\u001b[38;5;249m\"\u001b[0m\u001b[38;5;249mY\u001b[0m\u001b[38;5;249me\u001b[0m\u001b[38;5;249ma\u001b[0m\u001b[38;5;249mh\u001b[0m\u001b[38;5;249m!\u001b[0m\u001b[38;5;249m\"\u001b[0m\u001b[38;5;249m)\u001b[0m\u001b[38;5;249m;\u001b[0m",
      " \u001b[38;5;240m  │\u001b[0m \u001b[38;5;54m─\u001b[0m\u001b[38;5;54m─\u001b[0m\u001b[38;5;54m─\u001b[0m\u001b[38;5;54m─\u001b[0m\u001b[38;5;54m─\u001b[0m\u001b[38;5;54m┬\u001b[0m\u001b[38;5;54m─\u001b[0m\u001b[38;5;54m─\u001b[0m\u001b[38;5;54m─\u001b[0m\u001b[38;5;54m─\u001b[0m  ",
      " \u001b[38;5;240m  │\u001b[0m      \u001b[38;5;54m╰\u001b[0m\u001b[38;5;54m─\u001b[0m\u001b[38;5;54m─\u001b[0m\u001b[38;5;54m─\u001b[0m\u001b[38;5;54m─\u001b[0m\u001b[38;5;54m─\u001b[0m\u001b[38;5;54m─\u001b[0m cannot borrow as mutable",
      " \u001b[38;5;240m  │\u001b[0m ",
      " \u001b[38;5;240m  │\u001b[0m \u001b[38;5;115mNote\u001b[0m: You can change an existing variable to mutable like: `let mut x = x;`",
      "\u001b[38;5;246m───╯\u001b[0m"
     ]
    }
   ],
   "source": [
    "stone_cold.push_str(\"Yeah!\");"
   ]
  },
  {
   "cell_type": "markdown",
   "id": "93ec3792-5ad9-4e18-b136-e5c86f1926a6",
   "metadata": {},
   "source": [
    "Since by default all variables in rust are immutable, you need to add the keyword `mut` for the variable to be mutable."
   ]
  },
  {
   "cell_type": "code",
   "execution_count": 83,
   "id": "30bb5a19-8f74-42c5-a09a-0cf1e531cce8",
   "metadata": {},
   "outputs": [
    {
     "name": "stdout",
     "output_type": "stream",
     "text": [
      "Stone Cold Says: Hell, \n",
      "Stone Cold Says: Hell, Yeah!\n"
     ]
    }
   ],
   "source": [
    "let mut stone_cold: String = String::from(\"Hell, \");\n",
    "println!(\"Stone Cold Says: {}\", stone_cold);\n",
    "stone_cold.push_str(\"Yeah!\");\n",
    "println!(\"Stone Cold Says: {}\", stone_cold);"
   ]
  },
  {
   "cell_type": "markdown",
   "id": "2ef5d6d6-8032-4f75-8af9-c0fbada02a03",
   "metadata": {},
   "source": [
    "&str (String Slice) stored on the stack\n",
    "\n",
    "This is not a owned string, this is a reference to a portion of a string that is stored somewhere in your code. It is immutable, which means you cannnot anything.\n",
    "\n",
    "String slices are used to reference string literals or substrings of string objects without needing to copy or own the data.\n",
    "\n",
    "It is very good for memory efficiency because you do not have to copy the same variable.\n",
    "\n",
    "These string slices are used when you want to work with string data without taking ownership of it.\n",
    "\n",
    "String slices have a specific size and known number of bytes to the stack. So the stack can access it very quickly.\n",
    "\n",
    "- Stack: quicker, can't have mutable data types\n",
    "- Heap: slower, have dynamic data types"
   ]
  },
  {
   "cell_type": "code",
   "execution_count": 85,
   "id": "ee245430-365a-4577-a5ba-a15c5a638503",
   "metadata": {},
   "outputs": [
    {
     "name": "stdout",
     "output_type": "stream",
     "text": [
      "Slice Value: Hello, World!\n"
     ]
    },
    {
     "data": {
      "text/plain": [
       "()"
      ]
     },
     "execution_count": 85,
     "metadata": {},
     "output_type": "execute_result"
    }
   ],
   "source": [
    "// B- &str (String Slice)\n",
    "{\n",
    "    let string: String = String::from(\"Hello, World!\");\n",
    "    let slice: &str = &string;\n",
    "    println!(\"Slice Value: {}\", slice);\n",
    "}"
   ]
  },
  {
   "cell_type": "code",
   "execution_count": 89,
   "id": "db6ec17b-d4f7-4fa9-a9ae-ef418af67799",
   "metadata": {},
   "outputs": [
    {
     "name": "stdout",
     "output_type": "stream",
     "text": [
      "Slice Value: Hello\n"
     ]
    },
    {
     "data": {
      "text/plain": [
       "()"
      ]
     },
     "execution_count": 89,
     "metadata": {},
     "output_type": "execute_result"
    }
   ],
   "source": [
    "{\n",
    "    let string: String = String::from(\"Hello, World!\");\n",
    "    let slice: &str = &string[0..5];\n",
    "    println!(\"Slice Value: {}\", slice);\n",
    "}"
   ]
  },
  {
   "cell_type": "markdown",
   "id": "36496190-59be-42f6-a636-b7e2fa4e8cad",
   "metadata": {},
   "source": [
    "Rust cleans memory allocated to a variable, if you display slice outside you will get an error;"
   ]
  },
  {
   "cell_type": "code",
   "execution_count": 99,
   "id": "c4798d51-96f8-46e4-a1fb-84708e56101e",
   "metadata": {},
   "outputs": [
    {
     "ename": "Error",
     "evalue": "cannot find value `slice` in this scope",
     "output_type": "error",
     "traceback": [
      "\u001b[31m[E0425] Error:\u001b[0m cannot find value `slice` in this scope",
      "   \u001b[38;5;246m╭\u001b[0m\u001b[38;5;246m─\u001b[0m\u001b[38;5;246m[\u001b[0mcommand_99:1:1\u001b[38;5;246m]\u001b[0m",
      "   \u001b[38;5;246m│\u001b[0m",
      " \u001b[38;5;246m6 │\u001b[0m \u001b[38;5;249m \u001b[0m\u001b[38;5;249m \u001b[0m\u001b[38;5;249m \u001b[0m\u001b[38;5;249m \u001b[0m\u001b[38;5;249mp\u001b[0m\u001b[38;5;249mr\u001b[0m\u001b[38;5;249mi\u001b[0m\u001b[38;5;249mn\u001b[0m\u001b[38;5;249mt\u001b[0m\u001b[38;5;249ml\u001b[0m\u001b[38;5;249mn\u001b[0m\u001b[38;5;249m!\u001b[0m\u001b[38;5;249m(\u001b[0m\u001b[38;5;249m\"\u001b[0m\u001b[38;5;249mS\u001b[0m\u001b[38;5;249ml\u001b[0m\u001b[38;5;249mi\u001b[0m\u001b[38;5;249mc\u001b[0m\u001b[38;5;249me\u001b[0m\u001b[38;5;249m \u001b[0m\u001b[38;5;249mV\u001b[0m\u001b[38;5;249ma\u001b[0m\u001b[38;5;249ml\u001b[0m\u001b[38;5;249mu\u001b[0m\u001b[38;5;249me\u001b[0m\u001b[38;5;249m:\u001b[0m\u001b[38;5;249m \u001b[0m\u001b[38;5;249m{\u001b[0m\u001b[38;5;249m}\u001b[0m\u001b[38;5;249m\"\u001b[0m\u001b[38;5;249m,\u001b[0m\u001b[38;5;249m \u001b[0m\u001b[38;5;54ms\u001b[0m\u001b[38;5;54ml\u001b[0m\u001b[38;5;54mi\u001b[0m\u001b[38;5;54mc\u001b[0m\u001b[38;5;54me\u001b[0m\u001b[38;5;249m)\u001b[0m\u001b[38;5;249m;\u001b[0m",
      " \u001b[38;5;240m  │\u001b[0m                                 \u001b[38;5;54m─\u001b[0m\u001b[38;5;54m─\u001b[0m\u001b[38;5;54m┬\u001b[0m\u001b[38;5;54m─\u001b[0m\u001b[38;5;54m─\u001b[0m  ",
      " \u001b[38;5;240m  │\u001b[0m                                   \u001b[38;5;54m╰\u001b[0m\u001b[38;5;54m─\u001b[0m\u001b[38;5;54m─\u001b[0m\u001b[38;5;54m─\u001b[0m\u001b[38;5;54m─\u001b[0m not found in this scope",
      "\u001b[38;5;246m───╯\u001b[0m"
     ]
    }
   ],
   "source": [
    "{\n",
    "    let string: String = String::from(\"Hello, World!\");\n",
    "    let slice: &str = &string[0..5];\n",
    "    println!(\"Slice Value: {}\", slice);\n",
    "}\n",
    "    println!(\"Slice Value: {}\", slice);"
   ]
  },
  {
   "cell_type": "code",
   "execution_count": 98,
   "id": "a9542aeb-4a4e-4b8c-8713-3ad4332a427a",
   "metadata": {},
   "outputs": [
    {
     "name": "stdout",
     "output_type": "stream",
     "text": [
      "Slice Value: Hello\n",
      "Slice Value: Hello\n"
     ]
    },
    {
     "data": {
      "text/plain": [
       "()"
      ]
     },
     "execution_count": 98,
     "metadata": {},
     "output_type": "execute_result"
    }
   ],
   "source": [
    "{\n",
    "    let string: String = String::from(\"Hello, World!\");\n",
    "    let slice: &str = &string[0..5];\n",
    "    println!(\"Slice Value: {}\", slice);\n",
    "}\n",
    "{\n",
    "    let string: String = String::from(\"Hello, World!\");\n",
    "    let slice: &str = &string[0..5];\n",
    "    println!(\"Slice Value: {}\", slice);\n",
    "}"
   ]
  },
  {
   "cell_type": "markdown",
   "id": "5c96ccf7-21a8-455a-97e9-92e35237934e",
   "metadata": {},
   "source": [
    "# Functions\n",
    "`main` function is your entry point in rust.\n",
    "\n",
    "any functions/variables should be written in snake case"
   ]
  },
  {
   "cell_type": "code",
   "execution_count": 101,
   "id": "8bf16c1a-803b-4a88-85bc-6412dfb2abfc",
   "metadata": {},
   "outputs": [],
   "source": [
    "fn main() {\n",
    "    println!(\"Hello, world!\");\n",
    "}"
   ]
  },
  {
   "cell_type": "code",
   "execution_count": 102,
   "id": "2a9698d0-ac10-4d21-88d1-6839141fc064",
   "metadata": {},
   "outputs": [
    {
     "name": "stdout",
     "output_type": "stream",
     "text": [
      "Hello, world!\n"
     ]
    },
    {
     "data": {
      "text/plain": [
       "()"
      ]
     },
     "execution_count": 102,
     "metadata": {},
     "output_type": "execute_result"
    }
   ],
   "source": [
    "main()"
   ]
  },
  {
   "cell_type": "code",
   "execution_count": 103,
   "id": "2672a30c-d3b5-4b4f-b59b-d3d63b8ae1da",
   "metadata": {},
   "outputs": [],
   "source": [
    "fn hello_world() {\n",
    "    println!(\"Hello, Rust!\");\n",
    "}"
   ]
  },
  {
   "cell_type": "code",
   "execution_count": 104,
   "id": "91ecb8cd-8372-4ba2-8f88-8d57d2af345d",
   "metadata": {},
   "outputs": [
    {
     "name": "stdout",
     "output_type": "stream",
     "text": [
      "Hello, Rust!\n"
     ]
    },
    {
     "data": {
      "text/plain": [
       "()"
      ]
     },
     "execution_count": 104,
     "metadata": {},
     "output_type": "execute_result"
    }
   ],
   "source": [
    "hello_world()"
   ]
  },
  {
   "cell_type": "markdown",
   "id": "194fde2c-2ff9-434a-822f-b0d3f57c51aa",
   "metadata": {},
   "source": [
    "hoisting: you can call function anywhere in your code\n",
    "\n",
    "you can insert input values"
   ]
  },
  {
   "cell_type": "code",
   "execution_count": 112,
   "id": "37ac121f-b1c9-4ce8-b33f-e7cf7db2555c",
   "metadata": {},
   "outputs": [
    {
     "name": "stdout",
     "output_type": "stream",
     "text": [
      "My height is 182\n"
     ]
    }
   ],
   "source": [
    "tell_height(182);\n",
    "fn tell_height(height: u32) {\n",
    "    println!(\"My height is {}\", height);\n",
    "}"
   ]
  },
  {
   "cell_type": "code",
   "execution_count": 115,
   "id": "57ee0b9d-4493-4947-b063-a8cbdef5af0b",
   "metadata": {},
   "outputs": [
    {
     "name": "stdout",
     "output_type": "stream",
     "text": [
      "name Joel, age 55, height 182.4\n"
     ]
    }
   ],
   "source": [
    "fn human_id(name: &str, age: u32, height: f32) {\n",
    "    println!(\"name {}, age {}, height {}\", name, age, height);\n",
    "}\n",
    "\n",
    "human_id(\"Joel\", 55, 182.4);"
   ]
  },
  {
   "cell_type": "markdown",
   "id": "b77c9169-6451-44c4-9c21-baca3b5d1bc9",
   "metadata": {},
   "source": [
    "## Expressions and Statements\n",
    "Funtions can return value.\n",
    "\n",
    "Expression: Anything that returns a value.\n",
    "\n",
    "Statement: Anything that does not return a value.\n",
    "\n",
    "Expression:\n",
    "- 5\n",
    "- true & false\n",
    "- add(3, 4)\n",
    "- if condition {value1} else {value2}\n",
    "- expresssions includes blocks in curly braces ({code})"
   ]
  },
  {
   "cell_type": "code",
   "execution_count": 122,
   "id": "cf20b07e-6926-4c6d-96c0-08b595a405b1",
   "metadata": {},
   "outputs": [],
   "source": [
    "const _X: i32 = {\n",
    "    3\n",
    "};"
   ]
  },
  {
   "cell_type": "markdown",
   "id": "dd9ad590-efcd-4773-9654-738dc68f2f09",
   "metadata": {},
   "source": [
    "Any variable declared outside of the main function should be declared with the const keyword."
   ]
  },
  {
   "cell_type": "code",
   "execution_count": 134,
   "id": "00d39994-e262-42e6-90b8-0f667863cbcc",
   "metadata": {},
   "outputs": [
    {
     "name": "stdout",
     "output_type": "stream",
     "text": [
      "50\n"
     ]
    }
   ],
   "source": [
    "let x = {\n",
    "    let price = 5;\n",
    "    let qty = 10;\n",
    "    price * qty\n",
    "};\n",
    "\n",
    "println!(\"{}\", x);"
   ]
  },
  {
   "cell_type": "markdown",
   "id": "9668c344-238f-492d-999a-f7e4dca8fa2d",
   "metadata": {},
   "source": [
    "Any expression that evaluates to a certain value, a certain mathematical operation will evaluate to the last line in that expression."
   ]
  },
  {
   "cell_type": "markdown",
   "id": "7aeddcdc-5ba1-4f73-a2d3-ec19743e7351",
   "metadata": {},
   "source": [
    "Functions returning values have arrow defining the return type"
   ]
  },
  {
   "cell_type": "code",
   "execution_count": 135,
   "id": "29fb5b7e-9c4c-4c06-8ede-d17e6198bdf8",
   "metadata": {},
   "outputs": [
    {
     "name": "stdout",
     "output_type": "stream",
     "text": [
      "3\n"
     ]
    }
   ],
   "source": [
    "// function returning values\n",
    "fn add(a: i32, b: i32) -> i32 {\n",
    "    a + b\n",
    "}\n",
    "\n",
    "println!(\"{}\", add(2, 1));"
   ]
  },
  {
   "cell_type": "code",
   "execution_count": 136,
   "id": "38899fab-44f4-4e51-9f75-c7ad07f02278",
   "metadata": {},
   "outputs": [
    {
     "name": "stdout",
     "output_type": "stream",
     "text": [
      "10\n"
     ]
    }
   ],
   "source": [
    "let y = add(4, 6);\n",
    "println!(\"{}\", y);"
   ]
  },
  {
   "cell_type": "markdown",
   "id": "25f87d12-efb5-454d-8d82-67e0608c6d5c",
   "metadata": {},
   "source": [
    "Statements in rust all ends with semicolon ';'\n",
    "\n",
    "Statements:\n",
    "- variable declaration: let x = 5;\n",
    "- function definniitions: fn foo(){}\n",
    "- control flow statements: if condition {/* code */} else {/* code */}, while condition {/* code */}, etc."
   ]
  },
  {
   "cell_type": "code",
   "execution_count": 137,
   "id": "73769772-f412-4f8f-adab-a8f5c5371a94",
   "metadata": {},
   "outputs": [
    {
     "ename": "Error",
     "evalue": "expected expression, found `let` statement",
     "output_type": "error",
     "traceback": [
      "\u001b[31mError:\u001b[0m expected expression, found `let` statement",
      "   \u001b[38;5;246m╭\u001b[0m\u001b[38;5;246m─\u001b[0m\u001b[38;5;246m[\u001b[0mcommand_137:1:1\u001b[38;5;246m]\u001b[0m",
      "   \u001b[38;5;246m│\u001b[0m",
      " \u001b[38;5;246m1 │\u001b[0m \u001b[38;5;249ml\u001b[0m\u001b[38;5;249me\u001b[0m\u001b[38;5;249mt\u001b[0m\u001b[38;5;249m \u001b[0m\u001b[38;5;249my\u001b[0m\u001b[38;5;249m \u001b[0m\u001b[38;5;249m=\u001b[0m\u001b[38;5;249m \u001b[0m\u001b[38;5;54ml\u001b[0m\u001b[38;5;54me\u001b[0m\u001b[38;5;54mt\u001b[0m\u001b[38;5;249m \u001b[0m\u001b[38;5;249mx\u001b[0m\u001b[38;5;249m \u001b[0m\u001b[38;5;249m=\u001b[0m\u001b[38;5;249m \u001b[0m\u001b[38;5;249m1\u001b[0m\u001b[38;5;249m0\u001b[0m\u001b[38;5;249m;\u001b[0m",
      " \u001b[38;5;240m  │\u001b[0m         \u001b[38;5;54m─\u001b[0m\u001b[38;5;54m┬\u001b[0m\u001b[38;5;54m─\u001b[0m  ",
      " \u001b[38;5;240m  │\u001b[0m          \u001b[38;5;54m╰\u001b[0m\u001b[38;5;54m─\u001b[0m\u001b[38;5;54m─\u001b[0m\u001b[38;5;54m─\u001b[0m error: expected expression, found `let` statement",
      "\u001b[38;5;246m───╯\u001b[0m"
     ]
    },
    {
     "ename": "Error",
     "evalue": "unused variable: `x`",
     "output_type": "error",
     "traceback": [
      "\u001b[31m[unused_variables] Error:\u001b[0m unused variable: `x`"
     ]
    }
   ],
   "source": [
    "let y = let x = 10;"
   ]
  },
  {
   "cell_type": "code",
   "execution_count": 143,
   "id": "5d58c8ca-908a-4ca4-b2df-2a926e7e2c46",
   "metadata": {},
   "outputs": [],
   "source": [
    "// BMI = weigth(kg)/height(m)^2\n",
    "fn calculate_bmi(weight: f64, height: f64) -> f64 {\n",
    "    weight / (height * height)\n",
    "}"
   ]
  },
  {
   "cell_type": "code",
   "execution_count": 147,
   "id": "096cde1b-d98a-465e-bcc0-4f812218fc8e",
   "metadata": {},
   "outputs": [
    {
     "name": "stdout",
     "output_type": "stream",
     "text": [
      "21.13\n"
     ]
    }
   ],
   "source": [
    "let weight  = 70.0;\n",
    "let height = 1.82;\n",
    "let bmi = calculate_bmi(weight, height);\n",
    "println!(\"{:.2}\", bmi);"
   ]
  },
  {
   "cell_type": "code",
   "execution_count": null,
   "id": "6d4c4592-ae4a-46d5-a2d5-35b89804f40d",
   "metadata": {},
   "outputs": [],
   "source": []
  }
 ],
 "metadata": {
  "kernelspec": {
   "display_name": "Rust",
   "language": "rust",
   "name": "rust"
  },
  "language_info": {
   "codemirror_mode": "rust",
   "file_extension": ".rs",
   "mimetype": "text/rust",
   "name": "Rust",
   "pygment_lexer": "rust",
   "version": ""
  }
 },
 "nbformat": 4,
 "nbformat_minor": 5
}
