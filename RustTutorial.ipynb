{
 "cells": [
  {
   "cell_type": "markdown",
   "id": "389dc76c-8b1e-409f-b582-f919f83cee3a",
   "metadata": {},
   "source": [
    "## Installation\n",
    "\n",
    "```\n",
    "curl --proto '=https' --tlsv1.2 -sSf https://sh.rustup.rs | sh\n",
    "```\n",
    "\n",
    "Add following to   \n",
    "- ~/.profile\n",
    "- ~/.bash_profile\n",
    "- ~/.zshenv\n",
    "- ~/.zshrc\n",
    "```\n",
    "export PATH=\"$HOME/.cargo/bin:$PATH\"\n",
    "```\n",
    "Then run\n",
    "```\n",
    "source ~/.profile\n",
    "source ~/.bash_profile\n",
    "source ~/.zshenv\n",
    "source ~/.zshrc\n",
    "```"
   ]
  },
  {
   "cell_type": "markdown",
   "id": "f7e4b86a-b24b-4862-9740-1f980be8c05c",
   "metadata": {},
   "source": [
    "### Installing rust kernel on jupyter\n",
    "\n",
    "```\n",
    "cargo install --locked evcxr_jupyter\n",
    "evcxr_jupyter --install\n",
    "rustup component add rust-src\n",
    "```"
   ]
  },
  {
   "cell_type": "markdown",
   "id": "79e9fd44-93b9-473f-8f62-88e3e04e533f",
   "metadata": {},
   "source": [
    "## Primative Data Types\n",
    "Rust is a statically typed programming language.\n",
    "The primitive data type are also called scalar data type."
   ]
  },
  {
   "cell_type": "code",
   "execution_count": null,
   "id": "0aa052ed-3040-4c47-85b6-75b698085418",
   "metadata": {},
   "outputs": [],
   "source": []
  }
 ],
 "metadata": {
  "kernelspec": {
   "display_name": "Rust",
   "language": "rust",
   "name": "rust"
  },
  "language_info": {
   "codemirror_mode": "rust",
   "file_extension": ".rs",
   "mimetype": "text/rust",
   "name": "Rust",
   "pygment_lexer": "rust",
   "version": ""
  }
 },
 "nbformat": 4,
 "nbformat_minor": 5
}
