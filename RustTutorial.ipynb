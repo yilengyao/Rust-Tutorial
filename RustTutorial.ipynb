{
 "cells": [
  {
   "cell_type": "markdown",
   "id": "389dc76c-8b1e-409f-b582-f919f83cee3a",
   "metadata": {},
   "source": [
    "## Installation\n",
    "\n",
    "```\n",
    "curl --proto '=https' --tlsv1.2 -sSf https://sh.rustup.rs | sh\n",
    "```\n",
    "\n",
    "Add following to   \n",
    "- ~/.profile\n",
    "- ~/.bash_profile\n",
    "- ~/.zshenv\n",
    "- ~/.zshrc\n",
    "```\n",
    "export PATH=\"$HOME/.cargo/bin:$PATH\"\n",
    "```\n",
    "Then run\n",
    "```\n",
    "source ~/.profile\n",
    "source ~/.bash_profile\n",
    "source ~/.zshenv\n",
    "source ~/.zshrc\n",
    "```"
   ]
  },
  {
   "cell_type": "markdown",
   "id": "f7e4b86a-b24b-4862-9740-1f980be8c05c",
   "metadata": {},
   "source": [
    "### Installing rust kernel on jupyter\n",
    "\n",
    "```\n",
    "cargo install --locked evcxr_jupyter\n",
    "evcxr_jupyter --install\n",
    "rustup component add rust-src\n",
    "```"
   ]
  },
  {
   "cell_type": "markdown",
   "id": "79e9fd44-93b9-473f-8f62-88e3e04e533f",
   "metadata": {},
   "source": [
    "## Primative Data Types\n",
    "Rust is a statically typed programming language.\n",
    "The primitive data type are also called scalar data type.\n",
    "- int\n",
    "- float\n",
    "- bool\n",
    "- char\n",
    "\n",
    "### Integer\n",
    "Rust has signed (+ and -) and unsigned integer (only+) types of different sizes.\n",
    "- Signed integers: i8, i16, i32, i64, i128\n",
    "- Unsigned integers: u8, u16, u32, u64, u128"
   ]
  },
  {
   "cell_type": "code",
   "execution_count": 13,
   "id": "0aa052ed-3040-4c47-85b6-75b698085418",
   "metadata": {},
   "outputs": [
    {
     "name": "stdout",
     "output_type": "stream",
     "text": [
      "Signed Integer: -42\n",
      "Unsigned Integer: 100\n"
     ]
    }
   ],
   "source": [
    "let x: i32 = -42;\n",
    "let y: u64 = 100;\n",
    "println!(\"Signed Integer: {}\", x);\n",
    "println!(\"Unsigned Integer: {}\", y);"
   ]
  },
  {
   "cell_type": "markdown",
   "id": "2ae36b7a-f527-4c02-bd30-01d694d6f4c8",
   "metadata": {},
   "source": [
    "The difference is i32(32 bits) and i64(64 bits)\n",
    "Range:\n",
    "- i32: -2^31 to 2^31 - 1\n",
    "- i64: -2^63 to 2^63 - 1"
   ]
  },
  {
   "cell_type": "code",
   "execution_count": 17,
   "id": "cd1f4a0b-1e88-473c-be50-0ef7580bf76d",
   "metadata": {},
   "outputs": [
    {
     "name": "stdout",
     "output_type": "stream",
     "text": [
      "Maximum value of i32: 2147483647\n",
      "Maximum value of i64: 9223372036854775807\n"
     ]
    }
   ],
   "source": [
    "let e: i32 = 2147483647;\n",
    "let i: i64 = 9223372036854775807;\n",
    "println!(\"Maximum value of i32: {}\", e);\n",
    "println!(\"Maximum value of i64: {}\", i);"
   ]
  },
  {
   "cell_type": "markdown",
   "id": "d7b7cadf-d159-441d-8f7d-a5cb23175773",
   "metadata": {},
   "source": [
    "### Floats\n",
    "Floats represent numbers with fractional parts.\n",
    "f32, f64"
   ]
  },
  {
   "cell_type": "code",
   "execution_count": 18,
   "id": "2a984d58-9ea8-45eb-ad43-f08fb11d67b8",
   "metadata": {},
   "outputs": [
    {
     "name": "stdout",
     "output_type": "stream",
     "text": [
      "Value of pi: 3.14\n"
     ]
    }
   ],
   "source": [
    "let pi: f64 = 3.14;\n",
    "println!(\"Value of pi: {}\", pi);"
   ]
  },
  {
   "cell_type": "markdown",
   "id": "508745e2-fc4b-408d-812a-2489d0332ef1",
   "metadata": {},
   "source": [
    "### Boolean\n",
    "boolean values are either true or false."
   ]
  },
  {
   "cell_type": "code",
   "execution_count": 20,
   "id": "7144f3b1-3ba0-4bb9-b0b4-71829d6657a2",
   "metadata": {},
   "outputs": [
    {
     "name": "stdout",
     "output_type": "stream",
     "text": [
      "Is it snowing? true\n"
     ]
    },
    {
     "data": {
      "text/plain": [
       "()"
      ]
     },
     "execution_count": 20,
     "metadata": {},
     "output_type": "execute_result"
    }
   ],
   "source": [
    "let is_snowing: bool = true;\n",
    "println!(\"Is it snowing? {}\", is_snowing)"
   ]
  },
  {
   "cell_type": "markdown",
   "id": "c2913f73-b210-4132-9272-dd6525a3e31e",
   "metadata": {},
   "source": [
    "### Character\n",
    "Character type actually represents a single unicode scalar value.\n",
    "char"
   ]
  },
  {
   "cell_type": "code",
   "execution_count": 21,
   "id": "8e43d49d-4766-4fdc-ae1b-1e9e75e0b33a",
   "metadata": {},
   "outputs": [
    {
     "name": "stdout",
     "output_type": "stream",
     "text": [
      "First letter of the alphabet: a\n"
     ]
    }
   ],
   "source": [
    "let letter: char = 'a';\n",
    "println!(\"First letter of the alphabet: {}\", letter);"
   ]
  }
 ],
 "metadata": {
  "kernelspec": {
   "display_name": "Rust",
   "language": "rust",
   "name": "rust"
  },
  "language_info": {
   "codemirror_mode": "rust",
   "file_extension": ".rs",
   "mimetype": "text/rust",
   "name": "Rust",
   "pygment_lexer": "rust",
   "version": ""
  }
 },
 "nbformat": 4,
 "nbformat_minor": 5
}
