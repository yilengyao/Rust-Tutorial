{
 "cells": [
  {
   "cell_type": "markdown",
   "id": "389dc76c-8b1e-409f-b582-f919f83cee3a",
   "metadata": {},
   "source": [
    "## Installation\n",
    "\n",
    "```\n",
    "curl --proto '=https' --tlsv1.2 -sSf https://sh.rustup.rs | sh\n",
    "```\n",
    "\n",
    "Add following to   \n",
    "- ~/.profile\n",
    "- ~/.bash_profile\n",
    "- ~/.zshenv\n",
    "- ~/.zshrc\n",
    "```\n",
    "export PATH=\"$HOME/.cargo/bin:$PATH\"\n",
    "```\n",
    "Then run\n",
    "```\n",
    "source ~/.profile\n",
    "source ~/.bash_profile\n",
    "source ~/.zshenv\n",
    "source ~/.zshrc\n",
    "```"
   ]
  },
  {
   "cell_type": "markdown",
   "id": "f7e4b86a-b24b-4862-9740-1f980be8c05c",
   "metadata": {},
   "source": [
    "### Installing rust kernel on jupyter\n",
    "\n",
    "```\n",
    "cargo install --locked evcxr_jupyter\n",
    "evcxr_jupyter --install\n",
    "rustup component add rust-src\n",
    "```"
   ]
  },
  {
   "cell_type": "markdown",
   "id": "fea891fb-c4bd-47f9-8e01-a0be4b38250d",
   "metadata": {},
   "source": [
    "## Create rust project\n",
    "```\n",
    "cargo new <project name>\n",
    "```\n",
    "\n",
    "if you already in a rust project folder you can run\n",
    "```\n",
    "cargo init\n",
    "```\n",
    "\n",
    "### Compile and Running Rust Project\n",
    "```\n",
    "cargo build\n",
    "cargo run\n",
    "```\n",
    "\n",
    "### Compile and Run Rust program\n",
    "To compile and run a rust program\n",
    "```\n",
    "rustc <filename>.rs\n",
    "./<filename>\n",
    "```"
   ]
  },
  {
   "cell_type": "markdown",
   "id": "79e9fd44-93b9-473f-8f62-88e3e04e533f",
   "metadata": {},
   "source": [
    "## Primative Data Types\n",
    "Rust is a statically typed programming language.\n",
    "The primitive data type are also called scalar data type.\n",
    "- int\n",
    "- float\n",
    "- bool\n",
    "- char\n",
    "\n",
    "### Integer\n",
    "Rust has signed (+ and -) and unsigned integer (only+) types of different sizes.\n",
    "- Signed integers: i8, i16, i32, i64, i128\n",
    "- Unsigned integers: u8, u16, u32, u64, u128"
   ]
  },
  {
   "cell_type": "code",
   "execution_count": 13,
   "id": "0aa052ed-3040-4c47-85b6-75b698085418",
   "metadata": {},
   "outputs": [
    {
     "name": "stdout",
     "output_type": "stream",
     "text": [
      "Signed Integer: -42\n",
      "Unsigned Integer: 100\n"
     ]
    }
   ],
   "source": [
    "let x: i32 = -42;\n",
    "let y: u64 = 100;\n",
    "println!(\"Signed Integer: {}\", x);\n",
    "println!(\"Unsigned Integer: {}\", y);"
   ]
  },
  {
   "cell_type": "markdown",
   "id": "2ae36b7a-f527-4c02-bd30-01d694d6f4c8",
   "metadata": {},
   "source": [
    "The difference is i32(32 bits) and i64(64 bits)\n",
    "Range:\n",
    "- i32: -2^31 to 2^31 - 1\n",
    "- i64: -2^63 to 2^63 - 1"
   ]
  },
  {
   "cell_type": "code",
   "execution_count": 17,
   "id": "cd1f4a0b-1e88-473c-be50-0ef7580bf76d",
   "metadata": {},
   "outputs": [
    {
     "name": "stdout",
     "output_type": "stream",
     "text": [
      "Maximum value of i32: 2147483647\n",
      "Maximum value of i64: 9223372036854775807\n"
     ]
    }
   ],
   "source": [
    "let e: i32 = 2147483647;\n",
    "let i: i64 = 9223372036854775807;\n",
    "println!(\"Maximum value of i32: {}\", e);\n",
    "println!(\"Maximum value of i64: {}\", i);"
   ]
  },
  {
   "cell_type": "markdown",
   "id": "d7b7cadf-d159-441d-8f7d-a5cb23175773",
   "metadata": {},
   "source": [
    "### Floats\n",
    "Floats represent numbers with fractional parts.\n",
    "f32, f64"
   ]
  },
  {
   "cell_type": "code",
   "execution_count": 18,
   "id": "2a984d58-9ea8-45eb-ad43-f08fb11d67b8",
   "metadata": {},
   "outputs": [
    {
     "name": "stdout",
     "output_type": "stream",
     "text": [
      "Value of pi: 3.14\n"
     ]
    }
   ],
   "source": [
    "let pi: f64 = 3.14;\n",
    "println!(\"Value of pi: {}\", pi);"
   ]
  },
  {
   "cell_type": "markdown",
   "id": "508745e2-fc4b-408d-812a-2489d0332ef1",
   "metadata": {},
   "source": [
    "### Boolean\n",
    "boolean values are either true or false."
   ]
  },
  {
   "cell_type": "code",
   "execution_count": 20,
   "id": "7144f3b1-3ba0-4bb9-b0b4-71829d6657a2",
   "metadata": {
    "editable": true,
    "slideshow": {
     "slide_type": ""
    },
    "tags": []
   },
   "outputs": [
    {
     "name": "stdout",
     "output_type": "stream",
     "text": [
      "Is it snowing? true\n"
     ]
    },
    {
     "data": {
      "text/plain": [
       "()"
      ]
     },
     "execution_count": 20,
     "metadata": {},
     "output_type": "execute_result"
    }
   ],
   "source": [
    "let is_snowing: bool = true;\n",
    "println!(\"Is it snowing? {}\", is_snowing)"
   ]
  },
  {
   "cell_type": "markdown",
   "id": "c2913f73-b210-4132-9272-dd6525a3e31e",
   "metadata": {},
   "source": [
    "### Character\n",
    "Character type actually represents a single unicode scalar value.\n",
    "char"
   ]
  },
  {
   "cell_type": "code",
   "execution_count": 21,
   "id": "8e43d49d-4766-4fdc-ae1b-1e9e75e0b33a",
   "metadata": {},
   "outputs": [
    {
     "name": "stdout",
     "output_type": "stream",
     "text": [
      "First letter of the alphabet: a\n"
     ]
    }
   ],
   "source": [
    "let letter: char = 'a';\n",
    "println!(\"First letter of the alphabet: {}\", letter);"
   ]
  },
  {
   "cell_type": "markdown",
   "id": "5d488e73-bcbe-4c9c-bed5-77c4be6cffa6",
   "metadata": {},
   "source": [
    "## Compound Data Types\n",
    "Compound data types in rust is categorized into 4 groups.\n",
    "- arrays\n",
    "- tuples\n",
    "- slices\n",
    "- strings (slice string)\n",
    "\n",
    "### Arrays\n",
    "Arrays are a fixed size collection of elements of the same type. We defined and initialize with square brackets.\n",
    "\n",
    "The type is defined in square brackets \"[type: size]\""
   ]
  },
  {
   "cell_type": "code",
   "execution_count": 40,
   "id": "f7ba1a2b-7fc2-4c75-91cd-36e2fab05a43",
   "metadata": {},
   "outputs": [
    {
     "name": "stdout",
     "output_type": "stream",
     "text": [
      "Number Array: [0, 0, 0, 0, 0]\n",
      "Initialized Numer Array: [1, 2, 3, 4, 5]\n"
     ]
    }
   ],
   "source": [
    "let numbers: [i32; 5] = Default::default();\n",
    "println!(\"Number Array: {:?}\", numbers);\n",
    "\n",
    "let initializedNumbers: [i32; 5] = [1, 2, 3, 4, 5];\n",
    "println!(\"Initialized Numer Array: {:?}\", initializedNumbers);"
   ]
  },
  {
   "cell_type": "code",
   "execution_count": 41,
   "id": "202e46ab-393d-49e8-826f-1a0cc87c2990",
   "metadata": {},
   "outputs": [
    {
     "ename": "Error",
     "evalue": "mismatched types",
     "output_type": "error",
     "traceback": [
      "\u001b[31m[E0308] Error:\u001b[0m mismatched types",
      "   \u001b[38;5;246m╭\u001b[0m\u001b[38;5;246m─\u001b[0m\u001b[38;5;246m[\u001b[0mcommand_41:1:1\u001b[38;5;246m]\u001b[0m",
      "   \u001b[38;5;246m│\u001b[0m",
      " \u001b[38;5;246m1 │\u001b[0m \u001b[38;5;249ml\u001b[0m\u001b[38;5;249me\u001b[0m\u001b[38;5;249mt\u001b[0m\u001b[38;5;249m \u001b[0m\u001b[38;5;249mm\u001b[0m\u001b[38;5;249mi\u001b[0m\u001b[38;5;249mx\u001b[0m\u001b[38;5;249m \u001b[0m\u001b[38;5;249m=\u001b[0m\u001b[38;5;249m \u001b[0m\u001b[38;5;249m[\u001b[0m\u001b[38;5;249m1\u001b[0m\u001b[38;5;249m,\u001b[0m\u001b[38;5;249m \u001b[0m\u001b[38;5;249m2\u001b[0m\u001b[38;5;249m,\u001b[0m\u001b[38;5;249m \u001b[0m\u001b[38;5;54m\"\u001b[0m\u001b[38;5;54ma\u001b[0m\u001b[38;5;54mp\u001b[0m\u001b[38;5;54mp\u001b[0m\u001b[38;5;54ml\u001b[0m\u001b[38;5;54me\u001b[0m\u001b[38;5;54m\"\u001b[0m\u001b[38;5;249m,\u001b[0m\u001b[38;5;249m \u001b[0m\u001b[38;5;249mt\u001b[0m\u001b[38;5;249mr\u001b[0m\u001b[38;5;249mu\u001b[0m\u001b[38;5;249me\u001b[0m\u001b[38;5;249m]\u001b[0m\u001b[38;5;249m;\u001b[0m",
      " \u001b[38;5;240m  │\u001b[0m                  \u001b[38;5;54m─\u001b[0m\u001b[38;5;54m─\u001b[0m\u001b[38;5;54m─\u001b[0m\u001b[38;5;54m┬\u001b[0m\u001b[38;5;54m─\u001b[0m\u001b[38;5;54m─\u001b[0m\u001b[38;5;54m─\u001b[0m  ",
      " \u001b[38;5;240m  │\u001b[0m                     \u001b[38;5;54m╰\u001b[0m\u001b[38;5;54m─\u001b[0m\u001b[38;5;54m─\u001b[0m\u001b[38;5;54m─\u001b[0m\u001b[38;5;54m─\u001b[0m\u001b[38;5;54m─\u001b[0m expected integer, found `&str`",
      "\u001b[38;5;246m───╯\u001b[0m"
     ]
    }
   ],
   "source": [
    "let mix = [1, 2, \"apple\", true];\n",
    "println!(\"Mix Array: {:?}\", mix);"
   ]
  },
  {
   "cell_type": "code",
   "execution_count": 45,
   "id": "a7b9c507-878e-4b7e-89b7-331e7bdb2344",
   "metadata": {},
   "outputs": [
    {
     "name": "stdout",
     "output_type": "stream",
     "text": [
      "Fruits Array: [\"Apple\", \"Banana\", \"Orange\"]\n",
      "Fruits Array: Apple\n",
      "Fruits Array: Banana\n",
      "Fruits Array: Orange\n"
     ]
    }
   ],
   "source": [
    "let fruits: [&str; 3] = [\"Apple\", \"Banana\", \"Orange\"];\n",
    "println!(\"Fruits Array: {:?}\", fruits);\n",
    "println!(\"Fruits Array: {}\", fruits[0]);\n",
    "println!(\"Fruits Array: {}\", fruits[1]);\n",
    "println!(\"Fruits Array: {}\", fruits[2]);"
   ]
  },
  {
   "cell_type": "markdown",
   "id": "d484c3fe-c062-49a7-8017-011c4a48ddc6",
   "metadata": {},
   "source": [
    "### Tuples\n",
    "Tuples contains heterogenous collection of elements of fixed size. \n",
    "We declare and initialze with round brackets."
   ]
  },
  {
   "cell_type": "code",
   "execution_count": 53,
   "id": "d68a9b06-0989-4610-abd0-ed479385ebbf",
   "metadata": {},
   "outputs": [
    {
     "name": "stdout",
     "output_type": "stream",
     "text": [
      "Human (\"Alice\", 30, false)\n"
     ]
    }
   ],
   "source": [
    "let human = (\"Alice\", 30, false);\n",
    "println!(\"Human {:?}\", human);"
   ]
  },
  {
   "cell_type": "code",
   "execution_count": 52,
   "id": "c61b536b-1d6b-4391-bb83-041d9c3936e1",
   "metadata": {},
   "outputs": [
    {
     "ename": "Error",
     "evalue": "mismatched types",
     "output_type": "error",
     "traceback": [
      "\u001b[31m[E0308] Error:\u001b[0m mismatched types",
      "   \u001b[38;5;246m╭\u001b[0m\u001b[38;5;246m─\u001b[0m\u001b[38;5;246m[\u001b[0mcommand_52:1:1\u001b[38;5;246m]\u001b[0m",
      "   \u001b[38;5;246m│\u001b[0m",
      " \u001b[38;5;246m1 │\u001b[0m \u001b[38;5;249ml\u001b[0m\u001b[38;5;249me\u001b[0m\u001b[38;5;249mt\u001b[0m\u001b[38;5;249m \u001b[0m\u001b[38;5;249mh\u001b[0m\u001b[38;5;249mu\u001b[0m\u001b[38;5;249mm\u001b[0m\u001b[38;5;249ma\u001b[0m\u001b[38;5;249mn\u001b[0m\u001b[38;5;249m:\u001b[0m\u001b[38;5;249m \u001b[0m\u001b[38;5;249m(\u001b[0m\u001b[38;5;249mS\u001b[0m\u001b[38;5;249mt\u001b[0m\u001b[38;5;249mr\u001b[0m\u001b[38;5;249mi\u001b[0m\u001b[38;5;249mn\u001b[0m\u001b[38;5;249mg\u001b[0m\u001b[38;5;249m,\u001b[0m\u001b[38;5;249m \u001b[0m\u001b[38;5;249mi\u001b[0m\u001b[38;5;249m3\u001b[0m\u001b[38;5;249m2\u001b[0m\u001b[38;5;249m,\u001b[0m\u001b[38;5;249m \u001b[0m\u001b[38;5;249mb\u001b[0m\u001b[38;5;249mo\u001b[0m\u001b[38;5;249mo\u001b[0m\u001b[38;5;249ml\u001b[0m\u001b[38;5;249m)\u001b[0m\u001b[38;5;249m \u001b[0m\u001b[38;5;249m=\u001b[0m\u001b[38;5;249m \u001b[0m\u001b[38;5;249m(\u001b[0m\u001b[38;5;54m\"\u001b[0m\u001b[38;5;54mA\u001b[0m\u001b[38;5;54ml\u001b[0m\u001b[38;5;54mi\u001b[0m\u001b[38;5;54mc\u001b[0m\u001b[38;5;54me\u001b[0m\u001b[38;5;54m\"\u001b[0m\u001b[38;5;249m,\u001b[0m\u001b[38;5;249m \u001b[0m\u001b[38;5;249m3\u001b[0m\u001b[38;5;249m0\u001b[0m\u001b[38;5;249m,\u001b[0m\u001b[38;5;249m \u001b[0m\u001b[38;5;249mf\u001b[0m\u001b[38;5;249ma\u001b[0m\u001b[38;5;249ml\u001b[0m\u001b[38;5;249ms\u001b[0m\u001b[38;5;249me\u001b[0m\u001b[38;5;249m)\u001b[0m\u001b[38;5;249m;\u001b[0m",
      " \u001b[38;5;240m  │\u001b[0m                                   \u001b[38;5;54m─\u001b[0m\u001b[38;5;54m─\u001b[0m\u001b[38;5;54m─\u001b[0m\u001b[38;5;54m┬\u001b[0m\u001b[38;5;54m─\u001b[0m\u001b[38;5;54m─\u001b[0m\u001b[38;5;54m─\u001b[0m\u001b[38;5;100m│\u001b[0m ",
      " \u001b[38;5;240m  │\u001b[0m                                      \u001b[38;5;54m╰\u001b[0m\u001b[38;5;54m─\u001b[0m\u001b[38;5;54m─\u001b[0m\u001b[38;5;54m─\u001b[0m\u001b[38;5;54m─\u001b[0m\u001b[38;5;54m─\u001b[0m expected `String`, found `&str`",
      " \u001b[38;5;240m  │\u001b[0m                                          \u001b[38;5;100m│\u001b[0m ",
      " \u001b[38;5;240m  │\u001b[0m                                          \u001b[38;5;100m╰\u001b[0m\u001b[38;5;100m─\u001b[0m help: try using a conversion method: `.to_string()`",
      "\u001b[38;5;246m───╯\u001b[0m"
     ]
    }
   ],
   "source": [
    "let human: (String, i32, bool) = (\"Alice\", 30, false);\n",
    "println!(\"Human {:?}\", human);"
   ]
  },
  {
   "cell_type": "markdown",
   "id": "4572e0cb-0311-469a-8793-97abb32cd021",
   "metadata": {},
   "source": [
    "This is because \"Alice\" is not a string, its a string slice. To convert it to a string we use `.to_string()`."
   ]
  },
  {
   "cell_type": "code",
   "execution_count": 54,
   "id": "974c9845-4fca-4bce-a268-a21a9f7eeec1",
   "metadata": {},
   "outputs": [
    {
     "name": "stdout",
     "output_type": "stream",
     "text": [
      "Human (\"Alice\", 30, false)\n"
     ]
    }
   ],
   "source": [
    "let human: (String, i32, bool) = (\"Alice\".to_string(), 30, false);\n",
    "println!(\"Human {:?}\", human);"
   ]
  },
  {
   "cell_type": "code",
   "execution_count": 55,
   "id": "85679f02-d896-443c-a0a7-03a3d32deb15",
   "metadata": {},
   "outputs": [
    {
     "name": "stdout",
     "output_type": "stream",
     "text": [
      "My Mix Tuple: (\"Kratos\", 23, true, [1, 2, 3, 4, 5])\n"
     ]
    }
   ],
   "source": [
    "let my_mix_tuple = (\"Kratos\", 23, true, [1,2,3,4,5]);\n",
    "println!(\"My Mix Tuple: {:?}\", my_mix_tuple); "
   ]
  },
  {
   "cell_type": "markdown",
   "id": "67fadbab-5502-424b-9a77-99a4fb6df8e7",
   "metadata": {},
   "source": [
    "### Slices\n",
    "Slices are dynamically sized view into a contigous sequence of elements.\n",
    "\n",
    "Slices: [1,2,3,4,5]\n",
    "\n",
    "Contigous: uninterupted, adjacent to each other.\n",
    "\n",
    "contigous is special term in the context of memory, the memory doesn't need to jump between memories. It is good for memory allocation and memory efficiency.\n",
    "\n",
    "Slices are defined by an `ampersand` followed by square bracket `&[...]`"
   ]
  },
  {
   "cell_type": "code",
   "execution_count": 62,
   "id": "0204aaff-1555-4169-a728-cdacb0dc7d6e",
   "metadata": {},
   "outputs": [
    {
     "name": "stdout",
     "output_type": "stream",
     "text": [
      "Number Slice [1, 2, 3, 4, 5]\n"
     ]
    }
   ],
   "source": [
    "let number_slices: &[i32] = &[1,2,3,4,5];\n",
    "println!(\"Number Slice {:?}\", number_slices);"
   ]
  },
  {
   "cell_type": "code",
   "execution_count": 69,
   "id": "a41d3d33-cada-4ecb-bdff-aea5821dbc27",
   "metadata": {},
   "outputs": [
    {
     "name": "stdout",
     "output_type": "stream",
     "text": [
      "Animal Slice [\"Lion\", \"Elephant\", \"Crocodile\"]\n"
     ]
    }
   ],
   "source": [
    "let animal_slices: &[&str] = &[\"Lion\", \"Elephant\", \"Crocodile\"];\n",
    "println!(\"Animal Slice {:?}\", animal_slices);"
   ]
  },
  {
   "cell_type": "code",
   "execution_count": 86,
   "id": "4fa4afc2-de27-40f6-a1e2-d877765ba457",
   "metadata": {
    "scrolled": true
   },
   "outputs": [
    {
     "name": "stdout",
     "output_type": "stream",
     "text": [
      "Book Slice [\"IT\", \"Harry Potter\", \"ZEN\"]\n"
     ]
    },
    {
     "data": {
      "text/plain": [
       "()"
      ]
     },
     "execution_count": 86,
     "metadata": {},
     "output_type": "execute_result"
    }
   ],
   "source": [
    "{\n",
    "    let book_slices: &[&String] = &[&\"IT\".to_string(), &\"Harry Potter\".to_string(), &\"ZEN\".to_string()];\n",
    "    println!(\"Book Slice {:?}\", book_slices);\n",
    "}"
   ]
  },
  {
   "cell_type": "markdown",
   "id": "b6c76ea8-ae94-4b0f-a526-0ae7e67dc5a6",
   "metadata": {},
   "source": [
    "#### Strings vs String Slices (&str)\n",
    "The difference is the strings are growable, expandable, you can increase or decrease them if you want.\n",
    "That means that they are mutable.\n",
    "\n",
    "They are owned string types, which means that they are not borrowed.\n",
    "\n",
    "String [growable, mutable, owned string type]\n",
    "\n",
    "If you declare a string, it will be allocated to the heap. That means that the string objects can grow and shrink in size as needed dynamically(not fixed), you can add to it, delete from it. That means that memory allocation is made dynamically in the heap. Which makes it really slow to access because its not fixed, it wide and big because it is not in a contigous block of memory.\n",
    "\n",
    "Every datatype in Rust by default is immutable."
   ]
  },
  {
   "cell_type": "code",
   "execution_count": 80,
   "id": "12f1b1f3-3393-4fb9-9d02-9d8712d8e7de",
   "metadata": {},
   "outputs": [
    {
     "name": "stdout",
     "output_type": "stream",
     "text": [
      "Stone Cold Says: Hell, \n"
     ]
    }
   ],
   "source": [
    "let stone_cold: String = String::from(\"Hell, \");\n",
    "println!(\"Stone Cold Says: {}\", stone_cold);"
   ]
  },
  {
   "cell_type": "markdown",
   "id": "1f9688db-9f8c-4e1f-b67a-0c6943ad41dd",
   "metadata": {},
   "source": [
    "This stone_cold variable is stored on the Heap memory, both the Heap and Stack are memory."
   ]
  },
  {
   "cell_type": "code",
   "execution_count": 82,
   "id": "3865a464-d6df-464e-b353-2baf90707d5d",
   "metadata": {},
   "outputs": [
    {
     "ename": "Error",
     "evalue": "cannot borrow `stone_cold` as mutable, as it is not declared as mutable",
     "output_type": "error",
     "traceback": [
      "\u001b[31m[E0596] Error:\u001b[0m cannot borrow `stone_cold` as mutable, as it is not declared as mutable",
      "   \u001b[38;5;246m╭\u001b[0m\u001b[38;5;246m─\u001b[0m\u001b[38;5;246m[\u001b[0mcommand_82:1:1\u001b[38;5;246m]\u001b[0m",
      "   \u001b[38;5;246m│\u001b[0m",
      " \u001b[38;5;246m1 │\u001b[0m \u001b[38;5;54ms\u001b[0m\u001b[38;5;54mt\u001b[0m\u001b[38;5;54mo\u001b[0m\u001b[38;5;54mn\u001b[0m\u001b[38;5;54me\u001b[0m\u001b[38;5;54m_\u001b[0m\u001b[38;5;54mc\u001b[0m\u001b[38;5;54mo\u001b[0m\u001b[38;5;54ml\u001b[0m\u001b[38;5;54md\u001b[0m\u001b[38;5;249m.\u001b[0m\u001b[38;5;249mp\u001b[0m\u001b[38;5;249mu\u001b[0m\u001b[38;5;249ms\u001b[0m\u001b[38;5;249mh\u001b[0m\u001b[38;5;249m_\u001b[0m\u001b[38;5;249ms\u001b[0m\u001b[38;5;249mt\u001b[0m\u001b[38;5;249mr\u001b[0m\u001b[38;5;249m(\u001b[0m\u001b[38;5;249m\"\u001b[0m\u001b[38;5;249mY\u001b[0m\u001b[38;5;249me\u001b[0m\u001b[38;5;249ma\u001b[0m\u001b[38;5;249mh\u001b[0m\u001b[38;5;249m!\u001b[0m\u001b[38;5;249m\"\u001b[0m\u001b[38;5;249m)\u001b[0m\u001b[38;5;249m;\u001b[0m",
      " \u001b[38;5;240m  │\u001b[0m \u001b[38;5;54m─\u001b[0m\u001b[38;5;54m─\u001b[0m\u001b[38;5;54m─\u001b[0m\u001b[38;5;54m─\u001b[0m\u001b[38;5;54m─\u001b[0m\u001b[38;5;54m┬\u001b[0m\u001b[38;5;54m─\u001b[0m\u001b[38;5;54m─\u001b[0m\u001b[38;5;54m─\u001b[0m\u001b[38;5;54m─\u001b[0m  ",
      " \u001b[38;5;240m  │\u001b[0m      \u001b[38;5;54m╰\u001b[0m\u001b[38;5;54m─\u001b[0m\u001b[38;5;54m─\u001b[0m\u001b[38;5;54m─\u001b[0m\u001b[38;5;54m─\u001b[0m\u001b[38;5;54m─\u001b[0m\u001b[38;5;54m─\u001b[0m cannot borrow as mutable",
      " \u001b[38;5;240m  │\u001b[0m ",
      " \u001b[38;5;240m  │\u001b[0m \u001b[38;5;115mNote\u001b[0m: You can change an existing variable to mutable like: `let mut x = x;`",
      "\u001b[38;5;246m───╯\u001b[0m"
     ]
    }
   ],
   "source": [
    "stone_cold.push_str(\"Yeah!\");"
   ]
  },
  {
   "cell_type": "markdown",
   "id": "93ec3792-5ad9-4e18-b136-e5c86f1926a6",
   "metadata": {},
   "source": [
    "Since by default all variables in rust are immutable, you need to add the keyword `mut` for the variable to be mutable."
   ]
  },
  {
   "cell_type": "code",
   "execution_count": 83,
   "id": "30bb5a19-8f74-42c5-a09a-0cf1e531cce8",
   "metadata": {},
   "outputs": [
    {
     "name": "stdout",
     "output_type": "stream",
     "text": [
      "Stone Cold Says: Hell, \n",
      "Stone Cold Says: Hell, Yeah!\n"
     ]
    }
   ],
   "source": [
    "let mut stone_cold: String = String::from(\"Hell, \");\n",
    "println!(\"Stone Cold Says: {}\", stone_cold);\n",
    "stone_cold.push_str(\"Yeah!\");\n",
    "println!(\"Stone Cold Says: {}\", stone_cold);"
   ]
  },
  {
   "cell_type": "markdown",
   "id": "2ef5d6d6-8032-4f75-8af9-c0fbada02a03",
   "metadata": {},
   "source": [
    "&str (String Slice) stored on the stack\n",
    "\n",
    "This is not a owned string, this is a reference to a portion of a string that is stored somewhere in your code. It is immutable, which means you cannnot anything.\n",
    "\n",
    "String slices are used to reference string literals or substrings of string objects without needing to copy or own the data.\n",
    "\n",
    "It is very good for memory efficiency because you do not have to copy the same variable.\n",
    "\n",
    "These string slices are used when you want to work with string data without taking ownership of it.\n",
    "\n",
    "String slices have a specific size and known number of bytes to the stack. So the stack can access it very quickly.\n",
    "\n",
    "- Stack: quicker, can't have mutable data types\n",
    "- Heap: slower, have dynamic data types"
   ]
  },
  {
   "cell_type": "code",
   "execution_count": 85,
   "id": "ee245430-365a-4577-a5ba-a15c5a638503",
   "metadata": {},
   "outputs": [
    {
     "name": "stdout",
     "output_type": "stream",
     "text": [
      "Slice Value: Hello, World!\n"
     ]
    },
    {
     "data": {
      "text/plain": [
       "()"
      ]
     },
     "execution_count": 85,
     "metadata": {},
     "output_type": "execute_result"
    }
   ],
   "source": [
    "// B- &str (String Slice)\n",
    "{\n",
    "    let string: String = String::from(\"Hello, World!\");\n",
    "    let slice: &str = &string;\n",
    "    println!(\"Slice Value: {}\", slice);\n",
    "}"
   ]
  },
  {
   "cell_type": "code",
   "execution_count": 89,
   "id": "db6ec17b-d4f7-4fa9-a9ae-ef418af67799",
   "metadata": {},
   "outputs": [
    {
     "name": "stdout",
     "output_type": "stream",
     "text": [
      "Slice Value: Hello\n"
     ]
    },
    {
     "data": {
      "text/plain": [
       "()"
      ]
     },
     "execution_count": 89,
     "metadata": {},
     "output_type": "execute_result"
    }
   ],
   "source": [
    "{\n",
    "    let string: String = String::from(\"Hello, World!\");\n",
    "    let slice: &str = &string[0..5];\n",
    "    println!(\"Slice Value: {}\", slice);\n",
    "}"
   ]
  },
  {
   "cell_type": "markdown",
   "id": "36496190-59be-42f6-a636-b7e2fa4e8cad",
   "metadata": {},
   "source": [
    "Rust cleans memory allocated to a variable, if you display slice outside you will get an error;"
   ]
  },
  {
   "cell_type": "code",
   "execution_count": 99,
   "id": "c4798d51-96f8-46e4-a1fb-84708e56101e",
   "metadata": {},
   "outputs": [
    {
     "ename": "Error",
     "evalue": "cannot find value `slice` in this scope",
     "output_type": "error",
     "traceback": [
      "\u001b[31m[E0425] Error:\u001b[0m cannot find value `slice` in this scope",
      "   \u001b[38;5;246m╭\u001b[0m\u001b[38;5;246m─\u001b[0m\u001b[38;5;246m[\u001b[0mcommand_99:1:1\u001b[38;5;246m]\u001b[0m",
      "   \u001b[38;5;246m│\u001b[0m",
      " \u001b[38;5;246m6 │\u001b[0m \u001b[38;5;249m \u001b[0m\u001b[38;5;249m \u001b[0m\u001b[38;5;249m \u001b[0m\u001b[38;5;249m \u001b[0m\u001b[38;5;249mp\u001b[0m\u001b[38;5;249mr\u001b[0m\u001b[38;5;249mi\u001b[0m\u001b[38;5;249mn\u001b[0m\u001b[38;5;249mt\u001b[0m\u001b[38;5;249ml\u001b[0m\u001b[38;5;249mn\u001b[0m\u001b[38;5;249m!\u001b[0m\u001b[38;5;249m(\u001b[0m\u001b[38;5;249m\"\u001b[0m\u001b[38;5;249mS\u001b[0m\u001b[38;5;249ml\u001b[0m\u001b[38;5;249mi\u001b[0m\u001b[38;5;249mc\u001b[0m\u001b[38;5;249me\u001b[0m\u001b[38;5;249m \u001b[0m\u001b[38;5;249mV\u001b[0m\u001b[38;5;249ma\u001b[0m\u001b[38;5;249ml\u001b[0m\u001b[38;5;249mu\u001b[0m\u001b[38;5;249me\u001b[0m\u001b[38;5;249m:\u001b[0m\u001b[38;5;249m \u001b[0m\u001b[38;5;249m{\u001b[0m\u001b[38;5;249m}\u001b[0m\u001b[38;5;249m\"\u001b[0m\u001b[38;5;249m,\u001b[0m\u001b[38;5;249m \u001b[0m\u001b[38;5;54ms\u001b[0m\u001b[38;5;54ml\u001b[0m\u001b[38;5;54mi\u001b[0m\u001b[38;5;54mc\u001b[0m\u001b[38;5;54me\u001b[0m\u001b[38;5;249m)\u001b[0m\u001b[38;5;249m;\u001b[0m",
      " \u001b[38;5;240m  │\u001b[0m                                 \u001b[38;5;54m─\u001b[0m\u001b[38;5;54m─\u001b[0m\u001b[38;5;54m┬\u001b[0m\u001b[38;5;54m─\u001b[0m\u001b[38;5;54m─\u001b[0m  ",
      " \u001b[38;5;240m  │\u001b[0m                                   \u001b[38;5;54m╰\u001b[0m\u001b[38;5;54m─\u001b[0m\u001b[38;5;54m─\u001b[0m\u001b[38;5;54m─\u001b[0m\u001b[38;5;54m─\u001b[0m not found in this scope",
      "\u001b[38;5;246m───╯\u001b[0m"
     ]
    }
   ],
   "source": [
    "{\n",
    "    let string: String = String::from(\"Hello, World!\");\n",
    "    let slice: &str = &string[0..5];\n",
    "    println!(\"Slice Value: {}\", slice);\n",
    "}\n",
    "    println!(\"Slice Value: {}\", slice);"
   ]
  },
  {
   "cell_type": "code",
   "execution_count": 98,
   "id": "a9542aeb-4a4e-4b8c-8713-3ad4332a427a",
   "metadata": {},
   "outputs": [
    {
     "name": "stdout",
     "output_type": "stream",
     "text": [
      "Slice Value: Hello\n",
      "Slice Value: Hello\n"
     ]
    },
    {
     "data": {
      "text/plain": [
       "()"
      ]
     },
     "execution_count": 98,
     "metadata": {},
     "output_type": "execute_result"
    }
   ],
   "source": [
    "{\n",
    "    let string: String = String::from(\"Hello, World!\");\n",
    "    let slice: &str = &string[0..5];\n",
    "    println!(\"Slice Value: {}\", slice);\n",
    "}\n",
    "{\n",
    "    let string: String = String::from(\"Hello, World!\");\n",
    "    let slice: &str = &string[0..5];\n",
    "    println!(\"Slice Value: {}\", slice);\n",
    "}"
   ]
  },
  {
   "cell_type": "markdown",
   "id": "5c96ccf7-21a8-455a-97e9-92e35237934e",
   "metadata": {},
   "source": [
    "# Functions\n",
    "`main` function is your entry point in rust.\n",
    "\n",
    "any functions/variables should be written in snake case"
   ]
  },
  {
   "cell_type": "code",
   "execution_count": 101,
   "id": "8bf16c1a-803b-4a88-85bc-6412dfb2abfc",
   "metadata": {},
   "outputs": [],
   "source": [
    "fn main() {\n",
    "    println!(\"Hello, world!\");\n",
    "}"
   ]
  },
  {
   "cell_type": "code",
   "execution_count": 102,
   "id": "2a9698d0-ac10-4d21-88d1-6839141fc064",
   "metadata": {},
   "outputs": [
    {
     "name": "stdout",
     "output_type": "stream",
     "text": [
      "Hello, world!\n"
     ]
    },
    {
     "data": {
      "text/plain": [
       "()"
      ]
     },
     "execution_count": 102,
     "metadata": {},
     "output_type": "execute_result"
    }
   ],
   "source": [
    "main()"
   ]
  },
  {
   "cell_type": "code",
   "execution_count": 103,
   "id": "2672a30c-d3b5-4b4f-b59b-d3d63b8ae1da",
   "metadata": {},
   "outputs": [],
   "source": [
    "fn hello_world() {\n",
    "    println!(\"Hello, Rust!\");\n",
    "}"
   ]
  },
  {
   "cell_type": "code",
   "execution_count": 104,
   "id": "91ecb8cd-8372-4ba2-8f88-8d57d2af345d",
   "metadata": {},
   "outputs": [
    {
     "name": "stdout",
     "output_type": "stream",
     "text": [
      "Hello, Rust!\n"
     ]
    },
    {
     "data": {
      "text/plain": [
       "()"
      ]
     },
     "execution_count": 104,
     "metadata": {},
     "output_type": "execute_result"
    }
   ],
   "source": [
    "hello_world()"
   ]
  },
  {
   "cell_type": "markdown",
   "id": "194fde2c-2ff9-434a-822f-b0d3f57c51aa",
   "metadata": {},
   "source": [
    "hoisting: you can call function anywhere in your code\n",
    "\n",
    "you can insert input values"
   ]
  },
  {
   "cell_type": "code",
   "execution_count": 112,
   "id": "37ac121f-b1c9-4ce8-b33f-e7cf7db2555c",
   "metadata": {},
   "outputs": [
    {
     "name": "stdout",
     "output_type": "stream",
     "text": [
      "My height is 182\n"
     ]
    }
   ],
   "source": [
    "tell_height(182);\n",
    "fn tell_height(height: u32) {\n",
    "    println!(\"My height is {}\", height);\n",
    "}"
   ]
  },
  {
   "cell_type": "code",
   "execution_count": 115,
   "id": "57ee0b9d-4493-4947-b063-a8cbdef5af0b",
   "metadata": {},
   "outputs": [
    {
     "name": "stdout",
     "output_type": "stream",
     "text": [
      "name Joel, age 55, height 182.4\n"
     ]
    }
   ],
   "source": [
    "fn human_id(name: &str, age: u32, height: f32) {\n",
    "    println!(\"name {}, age {}, height {}\", name, age, height);\n",
    "}\n",
    "\n",
    "human_id(\"Joel\", 55, 182.4);"
   ]
  },
  {
   "cell_type": "markdown",
   "id": "b77c9169-6451-44c4-9c21-baca3b5d1bc9",
   "metadata": {},
   "source": [
    "## Expressions and Statements\n",
    "Funtions can return value.\n",
    "\n",
    "Expression: Anything that returns a value.\n",
    "\n",
    "Statement: Anything that does not return a value.\n",
    "\n",
    "Expression:\n",
    "- 5\n",
    "- true & false\n",
    "- add(3, 4)\n",
    "- if condition {value1} else {value2}\n",
    "- expresssions includes blocks in curly braces ({code})"
   ]
  },
  {
   "cell_type": "code",
   "execution_count": 122,
   "id": "cf20b07e-6926-4c6d-96c0-08b595a405b1",
   "metadata": {},
   "outputs": [],
   "source": [
    "const _X: i32 = {\n",
    "    3\n",
    "};"
   ]
  },
  {
   "cell_type": "markdown",
   "id": "dd9ad590-efcd-4773-9654-738dc68f2f09",
   "metadata": {},
   "source": [
    "Any variable declared outside of the main function should be declared with the const keyword."
   ]
  },
  {
   "cell_type": "code",
   "execution_count": 134,
   "id": "00d39994-e262-42e6-90b8-0f667863cbcc",
   "metadata": {},
   "outputs": [
    {
     "name": "stdout",
     "output_type": "stream",
     "text": [
      "50\n"
     ]
    }
   ],
   "source": [
    "let x = {\n",
    "    let price = 5;\n",
    "    let qty = 10;\n",
    "    price * qty\n",
    "};\n",
    "\n",
    "println!(\"{}\", x);"
   ]
  },
  {
   "cell_type": "markdown",
   "id": "9668c344-238f-492d-999a-f7e4dca8fa2d",
   "metadata": {},
   "source": [
    "Any expression that evaluates to a certain value, a certain mathematical operation will evaluate to the last line in that expression."
   ]
  },
  {
   "cell_type": "markdown",
   "id": "7aeddcdc-5ba1-4f73-a2d3-ec19743e7351",
   "metadata": {},
   "source": [
    "Functions returning values have arrow defining the return type"
   ]
  },
  {
   "cell_type": "code",
   "execution_count": 135,
   "id": "29fb5b7e-9c4c-4c06-8ede-d17e6198bdf8",
   "metadata": {},
   "outputs": [
    {
     "name": "stdout",
     "output_type": "stream",
     "text": [
      "3\n"
     ]
    }
   ],
   "source": [
    "// function returning values\n",
    "fn add(a: i32, b: i32) -> i32 {\n",
    "    a + b\n",
    "}\n",
    "\n",
    "println!(\"{}\", add(2, 1));"
   ]
  },
  {
   "cell_type": "code",
   "execution_count": 136,
   "id": "38899fab-44f4-4e51-9f75-c7ad07f02278",
   "metadata": {},
   "outputs": [
    {
     "name": "stdout",
     "output_type": "stream",
     "text": [
      "10\n"
     ]
    }
   ],
   "source": [
    "let y = add(4, 6);\n",
    "println!(\"{}\", y);"
   ]
  },
  {
   "cell_type": "markdown",
   "id": "25f87d12-efb5-454d-8d82-67e0608c6d5c",
   "metadata": {},
   "source": [
    "Statements in rust all ends with semicolon ';'\n",
    "\n",
    "Statements:\n",
    "- variable declaration: let x = 5;\n",
    "- function definniitions: fn foo(){}\n",
    "- control flow statements: if condition {/* code */} else {/* code */}, while condition {/* code */}, etc."
   ]
  },
  {
   "cell_type": "code",
   "execution_count": 137,
   "id": "73769772-f412-4f8f-adab-a8f5c5371a94",
   "metadata": {},
   "outputs": [
    {
     "ename": "Error",
     "evalue": "expected expression, found `let` statement",
     "output_type": "error",
     "traceback": [
      "\u001b[31mError:\u001b[0m expected expression, found `let` statement",
      "   \u001b[38;5;246m╭\u001b[0m\u001b[38;5;246m─\u001b[0m\u001b[38;5;246m[\u001b[0mcommand_137:1:1\u001b[38;5;246m]\u001b[0m",
      "   \u001b[38;5;246m│\u001b[0m",
      " \u001b[38;5;246m1 │\u001b[0m \u001b[38;5;249ml\u001b[0m\u001b[38;5;249me\u001b[0m\u001b[38;5;249mt\u001b[0m\u001b[38;5;249m \u001b[0m\u001b[38;5;249my\u001b[0m\u001b[38;5;249m \u001b[0m\u001b[38;5;249m=\u001b[0m\u001b[38;5;249m \u001b[0m\u001b[38;5;54ml\u001b[0m\u001b[38;5;54me\u001b[0m\u001b[38;5;54mt\u001b[0m\u001b[38;5;249m \u001b[0m\u001b[38;5;249mx\u001b[0m\u001b[38;5;249m \u001b[0m\u001b[38;5;249m=\u001b[0m\u001b[38;5;249m \u001b[0m\u001b[38;5;249m1\u001b[0m\u001b[38;5;249m0\u001b[0m\u001b[38;5;249m;\u001b[0m",
      " \u001b[38;5;240m  │\u001b[0m         \u001b[38;5;54m─\u001b[0m\u001b[38;5;54m┬\u001b[0m\u001b[38;5;54m─\u001b[0m  ",
      " \u001b[38;5;240m  │\u001b[0m          \u001b[38;5;54m╰\u001b[0m\u001b[38;5;54m─\u001b[0m\u001b[38;5;54m─\u001b[0m\u001b[38;5;54m─\u001b[0m error: expected expression, found `let` statement",
      "\u001b[38;5;246m───╯\u001b[0m"
     ]
    },
    {
     "ename": "Error",
     "evalue": "unused variable: `x`",
     "output_type": "error",
     "traceback": [
      "\u001b[31m[unused_variables] Error:\u001b[0m unused variable: `x`"
     ]
    }
   ],
   "source": [
    "let y = let x = 10;"
   ]
  },
  {
   "cell_type": "code",
   "execution_count": 143,
   "id": "5d58c8ca-908a-4ca4-b2df-2a926e7e2c46",
   "metadata": {},
   "outputs": [],
   "source": [
    "// BMI = weigth(kg)/height(m)^2\n",
    "fn calculate_bmi(weight: f64, height: f64) -> f64 {\n",
    "    weight / (height * height)\n",
    "}"
   ]
  },
  {
   "cell_type": "code",
   "execution_count": 147,
   "id": "096cde1b-d98a-465e-bcc0-4f812218fc8e",
   "metadata": {},
   "outputs": [
    {
     "name": "stdout",
     "output_type": "stream",
     "text": [
      "21.13\n"
     ]
    }
   ],
   "source": [
    "let weight  = 70.0;\n",
    "let height = 1.82;\n",
    "let bmi = calculate_bmi(weight, height);\n",
    "println!(\"{:.2}\", bmi);"
   ]
  },
  {
   "cell_type": "markdown",
   "id": "79d74ca7-0b18-4cde-949c-00e149b73131",
   "metadata": {},
   "source": [
    "# Ownership, Borrowing and References\n",
    "\n",
    "## Ownership\n",
    "Languages that let you control memory, eg C and C++ that lets you reserve memory and free it when you are finished, the issue is that it creates bugs\n",
    "- free memory more than once\n",
    "- forgot to free memory\n",
    "\n",
    "C, C++ -> Memory Management Controll Issue\n",
    "\n",
    "Some languages resolve these issue by introducing the Garbage Collector\n",
    "- issue with garbage collector, is that if it wants to clean up memory it needs to stop the program\n",
    "- this negatively impacts performance\n",
    "\n",
    "Rust solved this issue with ownership.\n",
    "\n",
    "What is ownership?\n",
    "\n",
    "Every value has a single owner [every variable has one value, and it is it's sole owner].\n",
    "\n",
    "Borrrowing: allows you to temporally borrow references to values and this enable safe concurrent access without sacrificing memory safety.\n",
    "\n",
    "Ownership Rules:\n",
    "1. Each value in Rust has a variable tht's its owner.\n",
    "2. There can be only one owner at a time.\n",
    "3. When the owner goes out of scope, the value will be dropped\n",
    "\n",
    "### Each value in Rust has a variable and thats its owner."
   ]
  },
  {
   "cell_type": "code",
   "execution_count": 152,
   "id": "fdab9cdf-d9fa-4dca-a344-1df3deeeefeb",
   "metadata": {},
   "outputs": [
    {
     "name": "stdout",
     "output_type": "stream",
     "text": [
      "Length of 'RUST' is 4.\n"
     ]
    }
   ],
   "source": [
    "{\n",
    "    let s1 = String::from(\"RUST\");\n",
    "    let len = calculate_length(&s1);\n",
    "    println!(\"Length of '{}' is {}.\", s1, len); \n",
    "}\n",
    "\n",
    "fn calculate_length(s: &String) -> usize {\n",
    "    s.len()\n",
    "}"
   ]
  },
  {
   "cell_type": "markdown",
   "id": "71ce5fa9-cbb2-48d4-9441-e4b6a5b0e3fe",
   "metadata": {},
   "source": [
    "`usize` is an unsigned integer type that is used for indexing and measuring the size of collections. It is platform-dependent, meaning that its size varies depending on the architecture of the machine it is running on. Specifically, usize is:\n",
    "\n",
    "- 32 bits (4 bytes) on a 32-bit architecture.\n",
    "- 64 bits (8 bytes) on a 64-bit architecture."
   ]
  },
  {
   "cell_type": "markdown",
   "id": "70fec791-f38c-4567-80af-60aee19f005f",
   "metadata": {},
   "source": [
    "#### There can only be one owner at a time."
   ]
  },
  {
   "cell_type": "code",
   "execution_count": 153,
   "id": "926c4ec5-38ae-4670-99b0-c7e3b847dab8",
   "metadata": {},
   "outputs": [
    {
     "ename": "Error",
     "evalue": "unused variable: `x`",
     "output_type": "error",
     "traceback": [
      "\u001b[31m[unused_variables] Error:\u001b[0m unused variable: `x`"
     ]
    },
    {
     "ename": "Error",
     "evalue": "unused variable: `s2`",
     "output_type": "error",
     "traceback": [
      "\u001b[31m[unused_variables] Error:\u001b[0m unused variable: `s2`",
      "   \u001b[38;5;246m╭\u001b[0m\u001b[38;5;246m─\u001b[0m\u001b[38;5;246m[\u001b[0mcommand_153:1:1\u001b[38;5;246m]\u001b[0m",
      "   \u001b[38;5;246m│\u001b[0m",
      " \u001b[38;5;246m3 │\u001b[0m \u001b[38;5;249m \u001b[0m\u001b[38;5;249m \u001b[0m\u001b[38;5;249m \u001b[0m\u001b[38;5;249m \u001b[0m\u001b[38;5;249ml\u001b[0m\u001b[38;5;249me\u001b[0m\u001b[38;5;249mt\u001b[0m\u001b[38;5;249m \u001b[0m\u001b[38;5;54ms\u001b[0m\u001b[38;5;54m2\u001b[0m\u001b[38;5;249m \u001b[0m\u001b[38;5;249m=\u001b[0m\u001b[38;5;249m \u001b[0m\u001b[38;5;249ms\u001b[0m\u001b[38;5;249m1\u001b[0m\u001b[38;5;249m;\u001b[0m",
      " \u001b[38;5;240m  │\u001b[0m         \u001b[38;5;54m─\u001b[0m\u001b[38;5;54m┬\u001b[0m  ",
      " \u001b[38;5;240m  │\u001b[0m          \u001b[38;5;54m╰\u001b[0m\u001b[38;5;54m─\u001b[0m\u001b[38;5;54m─\u001b[0m warning: unused variable: `s2`",
      " \u001b[38;5;240m  │\u001b[0m          \u001b[38;5;100m│\u001b[0m  ",
      " \u001b[38;5;240m  │\u001b[0m          \u001b[38;5;100m╰\u001b[0m\u001b[38;5;100m─\u001b[0m\u001b[38;5;100m─\u001b[0m help: if this is intentional, prefix it with an underscore: `_s2`",
      "\u001b[38;5;246m───╯\u001b[0m"
     ]
    },
    {
     "ename": "Error",
     "evalue": "borrow of moved value: `s1`",
     "output_type": "error",
     "traceback": [
      "\u001b[31m[E0382] Error:\u001b[0m borrow of moved value: `s1`",
      "   \u001b[38;5;246m╭\u001b[0m\u001b[38;5;246m─\u001b[0m\u001b[38;5;246m[\u001b[0mcommand_153:1:1\u001b[38;5;246m]\u001b[0m",
      "   \u001b[38;5;246m│\u001b[0m",
      " \u001b[38;5;246m2 │\u001b[0m \u001b[38;5;249m \u001b[0m\u001b[38;5;249m \u001b[0m\u001b[38;5;249m \u001b[0m\u001b[38;5;249m \u001b[0m\u001b[38;5;249ml\u001b[0m\u001b[38;5;249me\u001b[0m\u001b[38;5;249mt\u001b[0m\u001b[38;5;249m \u001b[0m\u001b[38;5;68ms\u001b[0m\u001b[38;5;68m1\u001b[0m\u001b[38;5;249m \u001b[0m\u001b[38;5;249m=\u001b[0m\u001b[38;5;249m \u001b[0m\u001b[38;5;249mS\u001b[0m\u001b[38;5;249mt\u001b[0m\u001b[38;5;249mr\u001b[0m\u001b[38;5;249mi\u001b[0m\u001b[38;5;249mn\u001b[0m\u001b[38;5;249mg\u001b[0m\u001b[38;5;249m:\u001b[0m\u001b[38;5;249m:\u001b[0m\u001b[38;5;249mf\u001b[0m\u001b[38;5;249mr\u001b[0m\u001b[38;5;249mo\u001b[0m\u001b[38;5;249mm\u001b[0m\u001b[38;5;249m(\u001b[0m\u001b[38;5;249m\"\u001b[0m\u001b[38;5;249mR\u001b[0m\u001b[38;5;249mU\u001b[0m\u001b[38;5;249mS\u001b[0m\u001b[38;5;249mT\u001b[0m\u001b[38;5;249m\"\u001b[0m\u001b[38;5;249m)\u001b[0m\u001b[38;5;249m;\u001b[0m",
      " \u001b[38;5;240m  │\u001b[0m         \u001b[38;5;68m─\u001b[0m\u001b[38;5;68m┬\u001b[0m  ",
      " \u001b[38;5;240m  │\u001b[0m          \u001b[38;5;68m╰\u001b[0m\u001b[38;5;68m─\u001b[0m\u001b[38;5;68m─\u001b[0m move occurs because `s1` has type `String`, which does not implement the `Copy` trait",
      " \u001b[38;5;246m3 │\u001b[0m \u001b[38;5;249m \u001b[0m\u001b[38;5;249m \u001b[0m\u001b[38;5;249m \u001b[0m\u001b[38;5;249m \u001b[0m\u001b[38;5;249ml\u001b[0m\u001b[38;5;249me\u001b[0m\u001b[38;5;249mt\u001b[0m\u001b[38;5;249m \u001b[0m\u001b[38;5;249ms\u001b[0m\u001b[38;5;249m2\u001b[0m\u001b[38;5;249m \u001b[0m\u001b[38;5;249m=\u001b[0m\u001b[38;5;249m \u001b[0m\u001b[38;5;54ms\u001b[0m\u001b[38;5;54m1\u001b[0m\u001b[38;5;249m;\u001b[0m",
      " \u001b[38;5;240m  │\u001b[0m              \u001b[38;5;54m─\u001b[0m\u001b[38;5;54m┬\u001b[0m\u001b[38;5;37m│\u001b[0m ",
      " \u001b[38;5;240m  │\u001b[0m               \u001b[38;5;54m╰\u001b[0m\u001b[38;5;54m─\u001b[0m\u001b[38;5;54m─\u001b[0m value moved here",
      " \u001b[38;5;240m  │\u001b[0m                \u001b[38;5;37m│\u001b[0m ",
      " \u001b[38;5;240m  │\u001b[0m                \u001b[38;5;37m╰\u001b[0m\u001b[38;5;37m─\u001b[0m help: consider cloning the value if the performance cost is acceptable: `.clone()`",
      " \u001b[38;5;240m  │\u001b[0m ",
      " \u001b[38;5;246m5 │\u001b[0m \u001b[38;5;249m \u001b[0m\u001b[38;5;249m \u001b[0m\u001b[38;5;249m \u001b[0m\u001b[38;5;249m \u001b[0m\u001b[38;5;249mp\u001b[0m\u001b[38;5;249mr\u001b[0m\u001b[38;5;249mi\u001b[0m\u001b[38;5;249mn\u001b[0m\u001b[38;5;249mt\u001b[0m\u001b[38;5;249ml\u001b[0m\u001b[38;5;249mn\u001b[0m\u001b[38;5;249m!\u001b[0m\u001b[38;5;249m(\u001b[0m\u001b[38;5;249m\"\u001b[0m\u001b[38;5;249m{\u001b[0m\u001b[38;5;249m}\u001b[0m\u001b[38;5;249m\"\u001b[0m\u001b[38;5;249m,\u001b[0m\u001b[38;5;249m \u001b[0m\u001b[38;5;100ms\u001b[0m\u001b[38;5;100m1\u001b[0m\u001b[38;5;249m)\u001b[0m\u001b[38;5;249m;\u001b[0m",
      " \u001b[38;5;240m  │\u001b[0m                    \u001b[38;5;100m─\u001b[0m\u001b[38;5;100m┬\u001b[0m  ",
      " \u001b[38;5;240m  │\u001b[0m                     \u001b[38;5;100m╰\u001b[0m\u001b[38;5;100m─\u001b[0m\u001b[38;5;100m─\u001b[0m value borrowed here after move",
      "\u001b[38;5;246m───╯\u001b[0m"
     ]
    }
   ],
   "source": [
    "{\n",
    "    let s1 = String::from(\"RUST\");\n",
    "    let s2 = s1;\n",
    "\n",
    "    println!(\"{}\", s1);\n",
    "}"
   ]
  },
  {
   "cell_type": "code",
   "execution_count": 154,
   "id": "9217cfe7-a9aa-42ef-8ac1-9e5d0b24f148",
   "metadata": {},
   "outputs": [
    {
     "name": "stdout",
     "output_type": "stream",
     "text": [
      "RUST\n"
     ]
    },
    {
     "data": {
      "text/plain": [
       "()"
      ]
     },
     "execution_count": 154,
     "metadata": {},
     "output_type": "execute_result"
    }
   ],
   "source": [
    "{\n",
    "    let s1 = String::from(\"RUST\");\n",
    "    let s2 = s1;\n",
    "\n",
    "    println!(\"{}\", s2);\n",
    "}"
   ]
  },
  {
   "cell_type": "code",
   "execution_count": 155,
   "id": "b97393b8-30fd-4725-8566-9f51bf5e289d",
   "metadata": {},
   "outputs": [
    {
     "name": "stdout",
     "output_type": "stream",
     "text": [
      "RUST\n"
     ]
    },
    {
     "data": {
      "text/plain": [
       "()"
      ]
     },
     "execution_count": 155,
     "metadata": {},
     "output_type": "execute_result"
    }
   ],
   "source": [
    "{\n",
    "    let s1 = String::from(\"RUST\");\n",
    "    let s2 = s1.clone();\n",
    "\n",
    "    println!(\"{}\", s1);\n",
    "}"
   ]
  },
  {
   "cell_type": "markdown",
   "id": "92ae2ba9-9f2e-4c97-8e26-78eb412e1bce",
   "metadata": {},
   "source": [
    "#### When the owner goes out of scope, the value will be dropped."
   ]
  },
  {
   "cell_type": "code",
   "execution_count": 160,
   "id": "94695e78-e5b8-4de7-9561-c753f2a55588",
   "metadata": {},
   "outputs": [
    {
     "ename": "Error",
     "evalue": "cannot find value `s1` in this scope",
     "output_type": "error",
     "traceback": [
      "\u001b[31m[E0425] Error:\u001b[0m cannot find value `s1` in this scope",
      "   \u001b[38;5;246m╭\u001b[0m\u001b[38;5;246m─\u001b[0m\u001b[38;5;246m[\u001b[0mcommand_160:1:1\u001b[38;5;246m]\u001b[0m",
      "   \u001b[38;5;246m│\u001b[0m",
      " \u001b[38;5;246m9 │\u001b[0m \u001b[38;5;249m \u001b[0m\u001b[38;5;249m \u001b[0m\u001b[38;5;249m \u001b[0m\u001b[38;5;249m \u001b[0m\u001b[38;5;249mp\u001b[0m\u001b[38;5;249mr\u001b[0m\u001b[38;5;249mi\u001b[0m\u001b[38;5;249mn\u001b[0m\u001b[38;5;249mt\u001b[0m\u001b[38;5;249ml\u001b[0m\u001b[38;5;249mn\u001b[0m\u001b[38;5;249m!\u001b[0m\u001b[38;5;249m(\u001b[0m\u001b[38;5;249m\"\u001b[0m\u001b[38;5;249m{\u001b[0m\u001b[38;5;249m}\u001b[0m\u001b[38;5;249m\"\u001b[0m\u001b[38;5;249m,\u001b[0m\u001b[38;5;249m \u001b[0m\u001b[38;5;249m&\u001b[0m\u001b[38;5;54ms\u001b[0m\u001b[38;5;54m1\u001b[0m\u001b[38;5;249m)\u001b[0m\u001b[38;5;249m;\u001b[0m",
      " \u001b[38;5;240m  │\u001b[0m                     \u001b[38;5;54m─\u001b[0m\u001b[38;5;54m┬\u001b[0m  ",
      " \u001b[38;5;240m  │\u001b[0m                      \u001b[38;5;54m╰\u001b[0m\u001b[38;5;54m─\u001b[0m\u001b[38;5;54m─\u001b[0m not found in this scope",
      "\u001b[38;5;246m───╯\u001b[0m"
     ]
    },
    {
     "ename": "Error",
     "evalue": "unused variable: `x`",
     "output_type": "error",
     "traceback": [
      "\u001b[31m[unused_variables] Error:\u001b[0m unused variable: `x`"
     ]
    }
   ],
   "source": [
    "{\n",
    "    let s1 = String::from(\"RUST\");\n",
    "    let len = calculate_length(&s1);\n",
    "    println!(\"Length of '{}' is {}.\", s1, len);\n",
    "}\n",
    "// s1 goes out of scope and its value will be dropped\n",
    "\n",
    "fn printLost() {\n",
    "    println!(\"{}\", &s1);\n",
    "}\n",
    "\n",
    "fn calculate_length(s: &String) -> usize {\n",
    "    s.len()\n",
    "}"
   ]
  },
  {
   "cell_type": "markdown",
   "id": "e792e01a-2b93-4d00-86ba-2fe076a3ad7b",
   "metadata": {},
   "source": [
    "#### Borrowing and Reference\n",
    "Borrowing and reference are the same thing, you create reference by borrowing from the original owner. Since we cannot have multiple owner for the same value, references in rust allows you borrow values without taking ownership.\n",
    "\n",
    "References can both be mutable and immutable.\n",
    "- immutable reference\n",
    "- mutable references allow borrowing without modification\n",
    "- create reference by adding \"&\" before the variable you are referring to"
   ]
  },
  {
   "cell_type": "code",
   "execution_count": 209,
   "id": "14cffe14-5748-405e-90c6-435ee5ab27cc",
   "metadata": {},
   "outputs": [
    {
     "ename": "Error",
     "evalue": "expected expression, found keyword `mut`",
     "output_type": "error",
     "traceback": [
      "\u001b[31mError:\u001b[0m expected expression, found keyword `mut`",
      "   \u001b[38;5;246m╭\u001b[0m\u001b[38;5;246m─\u001b[0m\u001b[38;5;246m[\u001b[0mcommand_209:1:1\u001b[38;5;246m]\u001b[0m",
      "   \u001b[38;5;246m│\u001b[0m",
      " \u001b[38;5;246m3 │\u001b[0m \u001b[38;5;249m \u001b[0m\u001b[38;5;249m \u001b[0m\u001b[38;5;249m \u001b[0m\u001b[38;5;249m \u001b[0m\u001b[38;5;249ml\u001b[0m\u001b[38;5;249me\u001b[0m\u001b[38;5;249mt\u001b[0m\u001b[38;5;249m \u001b[0m\u001b[38;5;249m_\u001b[0m\u001b[38;5;249my\u001b[0m\u001b[38;5;249m \u001b[0m\u001b[38;5;249m=\u001b[0m\u001b[38;5;249m \u001b[0m\u001b[38;5;54mm\u001b[0m\u001b[38;5;54mu\u001b[0m\u001b[38;5;54mt\u001b[0m\u001b[38;5;249m \u001b[0m\u001b[38;5;249m_\u001b[0m\u001b[38;5;249mx\u001b[0m\u001b[38;5;249m;\u001b[0m",
      " \u001b[38;5;240m  │\u001b[0m              \u001b[38;5;54m─\u001b[0m\u001b[38;5;54m┬\u001b[0m\u001b[38;5;54m─\u001b[0m  ",
      " \u001b[38;5;240m  │\u001b[0m               \u001b[38;5;54m╰\u001b[0m\u001b[38;5;54m─\u001b[0m\u001b[38;5;54m─\u001b[0m\u001b[38;5;54m─\u001b[0m expected expression",
      "\u001b[38;5;246m───╯\u001b[0m"
     ]
    },
    {
     "ename": "Error",
     "evalue": "unused variable: `x`",
     "output_type": "error",
     "traceback": [
      "\u001b[31m[unused_variables] Error:\u001b[0m unused variable: `x`"
     ]
    }
   ],
   "source": [
    "{\n",
    "    let mut _x = 5;\n",
    "    let _y = mut _x;\n",
    "    *_y = *_y + 1;\n",
    "    println!(\"{}\", _y);\n",
    "}"
   ]
  },
  {
   "cell_type": "code",
   "execution_count": 211,
   "id": "079d15fe-fcc4-498d-86d9-85de36f81eca",
   "metadata": {},
   "outputs": [
    {
     "name": "stdout",
     "output_type": "stream",
     "text": [
      "6\n"
     ]
    },
    {
     "data": {
      "text/plain": [
       "()"
      ]
     },
     "execution_count": 211,
     "metadata": {},
     "output_type": "execute_result"
    }
   ],
   "source": [
    "{\n",
    "    let mut _x = 5;\n",
    "    let _y = &mut _x;\n",
    "    *_y = *_y + 1;\n",
    "    println!(\"{}\", _x);\n",
    "}"
   ]
  },
  {
   "cell_type": "code",
   "execution_count": 212,
   "id": "fb0564bf-1c3e-48f5-b68d-fafacc9b53dd",
   "metadata": {},
   "outputs": [
    {
     "name": "stdout",
     "output_type": "stream",
     "text": [
      "6\n"
     ]
    },
    {
     "data": {
      "text/plain": [
       "()"
      ]
     },
     "execution_count": 212,
     "metadata": {},
     "output_type": "execute_result"
    }
   ],
   "source": [
    "{\n",
    "    let mut _x = 5;\n",
    "    let _y = &mut _x;\n",
    "    *_y = *_y + 1;\n",
    "    println!(\"{}\", _y);\n",
    "}"
   ]
  },
  {
   "cell_type": "code",
   "execution_count": 213,
   "id": "2b994662-4d74-4487-a7b7-6fe78f2600e4",
   "metadata": {},
   "outputs": [
    {
     "ename": "Error",
     "evalue": "unused variable: `x`",
     "output_type": "error",
     "traceback": [
      "\u001b[31m[unused_variables] Error:\u001b[0m unused variable: `x`"
     ]
    },
    {
     "ename": "Error",
     "evalue": "cannot borrow `_x` as immutable because it is also borrowed as mutable",
     "output_type": "error",
     "traceback": [
      "\u001b[31m[E0502] Error:\u001b[0m cannot borrow `_x` as immutable because it is also borrowed as mutable",
      "   \u001b[38;5;246m╭\u001b[0m\u001b[38;5;246m─\u001b[0m\u001b[38;5;246m[\u001b[0mcommand_213:1:1\u001b[38;5;246m]\u001b[0m",
      "   \u001b[38;5;246m│\u001b[0m",
      " \u001b[38;5;246m3 │\u001b[0m \u001b[38;5;249m \u001b[0m\u001b[38;5;249m \u001b[0m\u001b[38;5;249m \u001b[0m\u001b[38;5;249m \u001b[0m\u001b[38;5;249ml\u001b[0m\u001b[38;5;249me\u001b[0m\u001b[38;5;249mt\u001b[0m\u001b[38;5;249m \u001b[0m\u001b[38;5;249m_\u001b[0m\u001b[38;5;249my\u001b[0m\u001b[38;5;249m \u001b[0m\u001b[38;5;249m=\u001b[0m\u001b[38;5;249m \u001b[0m\u001b[38;5;100m&\u001b[0m\u001b[38;5;100mm\u001b[0m\u001b[38;5;100mu\u001b[0m\u001b[38;5;100mt\u001b[0m\u001b[38;5;100m \u001b[0m\u001b[38;5;100m_\u001b[0m\u001b[38;5;100mx\u001b[0m\u001b[38;5;249m;\u001b[0m",
      " \u001b[38;5;240m  │\u001b[0m              \u001b[38;5;100m─\u001b[0m\u001b[38;5;100m─\u001b[0m\u001b[38;5;100m─\u001b[0m\u001b[38;5;100m┬\u001b[0m\u001b[38;5;100m─\u001b[0m\u001b[38;5;100m─\u001b[0m\u001b[38;5;100m─\u001b[0m  ",
      " \u001b[38;5;240m  │\u001b[0m                 \u001b[38;5;100m╰\u001b[0m\u001b[38;5;100m─\u001b[0m\u001b[38;5;100m─\u001b[0m\u001b[38;5;100m─\u001b[0m\u001b[38;5;100m─\u001b[0m\u001b[38;5;100m─\u001b[0m mutable borrow occurs here",
      " \u001b[38;5;240m  │\u001b[0m ",
      " \u001b[38;5;246m5 │\u001b[0m \u001b[38;5;249m \u001b[0m\u001b[38;5;249m \u001b[0m\u001b[38;5;249m \u001b[0m\u001b[38;5;249m \u001b[0m\u001b[38;5;249mp\u001b[0m\u001b[38;5;249mr\u001b[0m\u001b[38;5;249mi\u001b[0m\u001b[38;5;249mn\u001b[0m\u001b[38;5;249mt\u001b[0m\u001b[38;5;249ml\u001b[0m\u001b[38;5;249mn\u001b[0m\u001b[38;5;249m!\u001b[0m\u001b[38;5;249m(\u001b[0m\u001b[38;5;249m\"\u001b[0m\u001b[38;5;249m{\u001b[0m\u001b[38;5;249m}\u001b[0m\u001b[38;5;249m\"\u001b[0m\u001b[38;5;249m,\u001b[0m\u001b[38;5;249m \u001b[0m\u001b[38;5;54m_\u001b[0m\u001b[38;5;54mx\u001b[0m\u001b[38;5;249m)\u001b[0m\u001b[38;5;249m;\u001b[0m",
      " \u001b[38;5;240m  │\u001b[0m                    \u001b[38;5;54m─\u001b[0m\u001b[38;5;54m┬\u001b[0m  ",
      " \u001b[38;5;240m  │\u001b[0m                     \u001b[38;5;54m╰\u001b[0m\u001b[38;5;54m─\u001b[0m\u001b[38;5;54m─\u001b[0m immutable borrow occurs here",
      " \u001b[38;5;246m6 │\u001b[0m \u001b[38;5;249m \u001b[0m\u001b[38;5;249m \u001b[0m\u001b[38;5;249m \u001b[0m\u001b[38;5;249m \u001b[0m\u001b[38;5;249mp\u001b[0m\u001b[38;5;249mr\u001b[0m\u001b[38;5;249mi\u001b[0m\u001b[38;5;249mn\u001b[0m\u001b[38;5;249mt\u001b[0m\u001b[38;5;249ml\u001b[0m\u001b[38;5;249mn\u001b[0m\u001b[38;5;249m!\u001b[0m\u001b[38;5;249m(\u001b[0m\u001b[38;5;249m\"\u001b[0m\u001b[38;5;249m{\u001b[0m\u001b[38;5;249m}\u001b[0m\u001b[38;5;249m\"\u001b[0m\u001b[38;5;249m,\u001b[0m\u001b[38;5;249m \u001b[0m\u001b[38;5;68m_\u001b[0m\u001b[38;5;68my\u001b[0m\u001b[38;5;249m)\u001b[0m\u001b[38;5;249m;\u001b[0m",
      " \u001b[38;5;240m  │\u001b[0m                    \u001b[38;5;68m─\u001b[0m\u001b[38;5;68m┬\u001b[0m  ",
      " \u001b[38;5;240m  │\u001b[0m                     \u001b[38;5;68m╰\u001b[0m\u001b[38;5;68m─\u001b[0m\u001b[38;5;68m─\u001b[0m mutable borrow later used here",
      "\u001b[38;5;246m───╯\u001b[0m"
     ]
    }
   ],
   "source": [
    "{\n",
    "    let mut _x = 5;\n",
    "    let _y = &mut _x;\n",
    "    *_y = *_y + 1;\n",
    "    println!(\"{}\", _x);\n",
    "    println!(\"{}\", _y);\n",
    "\n",
    "}"
   ]
  },
  {
   "cell_type": "markdown",
   "id": "d1c34626-9edf-460e-99cd-c58d19a4f2df",
   "metadata": {},
   "source": [
    "You can have only 1 mutable reference or many immutable refrerences."
   ]
  },
  {
   "cell_type": "markdown",
   "id": "f099c5a8-4146-46d3-adc2-9d355c68283c",
   "metadata": {},
   "source": [
    "Struct: A data structure that allows you to group multiple fields together under one name."
   ]
  },
  {
   "cell_type": "code",
   "execution_count": 216,
   "id": "c51518db-bb6c-4b9f-bc85-91596747dbf3",
   "metadata": {},
   "outputs": [
    {
     "name": "stdout",
     "output_type": "stream",
     "text": [
      "Account owned by Alice has a balance of 150.55\n",
      "Withdrawing 45.5 from acocunt owned by Alice\n",
      "Account owned by Alice has a balance of 105.05000000000001\n"
     ]
    }
   ],
   "source": [
    "{\n",
    "    let mut account = BankAccount{\n",
    "        owner: \"Alice\".to_string(),\n",
    "        balance: 150.55,\n",
    "    };\n",
    "    // Immutable borrow to check the balance\n",
    "    account.check_balance();\n",
    "\n",
    "    // Mutable borrow to withdrawal money\n",
    "    account.withdraw(45.5);\n",
    "\n",
    "    account.check_balance();\n",
    "}\n",
    "\n",
    "struct BankAccount {\n",
    "    owner: String,\n",
    "    balance: f64,\n",
    "}\n",
    "\n",
    "impl BankAccount {\n",
    "    fn withdraw(&mut self, amount: f64) {\n",
    "        println!(\"Withdrawing {} from acocunt owned by {}\", amount, self.owner);\n",
    "        self.balance -= amount;\n",
    "    }\n",
    "\n",
    "    fn check_balance(&self) {\n",
    "        println!(\"Account owned by {} has a balance of {}\", self.owner, self.balance);\n",
    "    }\n",
    "}"
   ]
  },
  {
   "cell_type": "markdown",
   "id": "66cb39ff-695c-4f7a-8c18-65b70fc133ae",
   "metadata": {},
   "source": [
    "In this withdraw function I want to ensure that we cannot simultaneously have mutable access to the account to update the balance and immutable accesss for reading the owner's name."
   ]
  },
  {
   "cell_type": "markdown",
   "id": "7f2f794a-0d6c-4ca6-96b0-5e36de318705",
   "metadata": {},
   "source": [
    "## Variables and Mutability\n",
    "In rust variables are immutable by default. This applies to variables but not constants. What a variable is immutable, once a value is bound to a name, you can't change that value.\n",
    "\n",
    "In order to change a variable from its default immutable state to mutable state you need to add the `mut` keyword before the name of the variable what it is created."
   ]
  },
  {
   "cell_type": "code",
   "execution_count": 2,
   "id": "593b81e2-8263-478d-a181-b486595ffca3",
   "metadata": {},
   "outputs": [
    {
     "ename": "Error",
     "evalue": "value assigned to `a` is never read",
     "output_type": "error",
     "traceback": [
      "\u001b[31m[unused_assignments] Error:\u001b[0m value assigned to `a` is never read",
      "   \u001b[38;5;246m╭\u001b[0m\u001b[38;5;246m─\u001b[0m\u001b[38;5;246m[\u001b[0mcommand_2:1:1\u001b[38;5;246m]\u001b[0m",
      "   \u001b[38;5;246m│\u001b[0m",
      " \u001b[38;5;246m4 │\u001b[0m \u001b[38;5;249m \u001b[0m\u001b[38;5;249m \u001b[0m\u001b[38;5;249m \u001b[0m\u001b[38;5;249m \u001b[0m\u001b[38;5;54ma\u001b[0m\u001b[38;5;249m \u001b[0m\u001b[38;5;249m=\u001b[0m\u001b[38;5;249m \u001b[0m\u001b[38;5;249m1\u001b[0m\u001b[38;5;249m0\u001b[0m\u001b[38;5;249m;\u001b[0m",
      " \u001b[38;5;240m  │\u001b[0m     \u001b[38;5;54m┬\u001b[0m  ",
      " \u001b[38;5;240m  │\u001b[0m     \u001b[38;5;54m╰\u001b[0m\u001b[38;5;54m─\u001b[0m\u001b[38;5;54m─\u001b[0m warning: value assigned to `a` is never read",
      "\u001b[38;5;246m───╯\u001b[0m"
     ]
    },
    {
     "ename": "Error",
     "evalue": "cannot assign twice to immutable variable `a`",
     "output_type": "error",
     "traceback": [
      "\u001b[31m[E0384] Error:\u001b[0m cannot assign twice to immutable variable `a`",
      "   \u001b[38;5;246m╭\u001b[0m\u001b[38;5;246m─\u001b[0m\u001b[38;5;246m[\u001b[0mcommand_2:1:1\u001b[38;5;246m]\u001b[0m",
      "   \u001b[38;5;246m│\u001b[0m",
      " \u001b[38;5;246m2 │\u001b[0m \u001b[38;5;249m \u001b[0m\u001b[38;5;249m \u001b[0m\u001b[38;5;249m \u001b[0m\u001b[38;5;249m \u001b[0m\u001b[38;5;249ml\u001b[0m\u001b[38;5;249me\u001b[0m\u001b[38;5;249mt\u001b[0m\u001b[38;5;249m \u001b[0m\u001b[38;5;54ma\u001b[0m\u001b[38;5;249m \u001b[0m\u001b[38;5;249m=\u001b[0m\u001b[38;5;249m \u001b[0m\u001b[38;5;249m5\u001b[0m\u001b[38;5;249m;\u001b[0m",
      " \u001b[38;5;240m  │\u001b[0m         \u001b[38;5;54m┬\u001b[0m  ",
      " \u001b[38;5;240m  │\u001b[0m         \u001b[38;5;54m╰\u001b[0m\u001b[38;5;54m─\u001b[0m\u001b[38;5;54m─\u001b[0m first assignment to `a`",
      " \u001b[38;5;240m  │\u001b[0m         \u001b[38;5;68m│\u001b[0m  ",
      " \u001b[38;5;240m  │\u001b[0m         \u001b[38;5;68m╰\u001b[0m\u001b[38;5;68m─\u001b[0m\u001b[38;5;68m─\u001b[0m help: consider making this binding mutable: `mut a`",
      " \u001b[38;5;240m  │\u001b[0m ",
      " \u001b[38;5;246m4 │\u001b[0m \u001b[38;5;249m \u001b[0m\u001b[38;5;249m \u001b[0m\u001b[38;5;249m \u001b[0m\u001b[38;5;249m \u001b[0m\u001b[38;5;100ma\u001b[0m\u001b[38;5;100m \u001b[0m\u001b[38;5;100m=\u001b[0m\u001b[38;5;100m \u001b[0m\u001b[38;5;100m1\u001b[0m\u001b[38;5;100m0\u001b[0m\u001b[38;5;249m;\u001b[0m",
      " \u001b[38;5;240m  │\u001b[0m     \u001b[38;5;100m─\u001b[0m\u001b[38;5;100m─\u001b[0m\u001b[38;5;100m─\u001b[0m\u001b[38;5;100m┬\u001b[0m\u001b[38;5;100m─\u001b[0m\u001b[38;5;100m─\u001b[0m  ",
      " \u001b[38;5;240m  │\u001b[0m        \u001b[38;5;100m╰\u001b[0m\u001b[38;5;100m─\u001b[0m\u001b[38;5;100m─\u001b[0m\u001b[38;5;100m─\u001b[0m\u001b[38;5;100m─\u001b[0m cannot assign twice to immutable variable",
      " \u001b[38;5;240m  │\u001b[0m ",
      " \u001b[38;5;240m  │\u001b[0m \u001b[38;5;115mNote\u001b[0m: You can change an existing variable to mutable like: `let mut x = x;`",
      "\u001b[38;5;246m───╯\u001b[0m"
     ]
    }
   ],
   "source": [
    "{\n",
    "    let a = 5;\n",
    "    println!(\"The value of a  is {}\", a);\n",
    "    a = 10;\n",
    "}"
   ]
  },
  {
   "cell_type": "code",
   "execution_count": 4,
   "id": "3a2f04e4-e999-4fb7-b822-490b2323fb67",
   "metadata": {},
   "outputs": [
    {
     "name": "stdout",
     "output_type": "stream",
     "text": [
      "The value of a  is 5\n",
      "The value of a  is 10\n"
     ]
    },
    {
     "data": {
      "text/plain": [
       "()"
      ]
     },
     "execution_count": 4,
     "metadata": {},
     "output_type": "execute_result"
    }
   ],
   "source": [
    "{\n",
    "    let mut a = 5;\n",
    "    println!(\"The value of a  is {}\", a);\n",
    "    a = 10;\n",
    "    println!(\"The value of a  is {}\", a);\n",
    "}"
   ]
  },
  {
   "cell_type": "markdown",
   "id": "fa4e77d6-87cc-4c75-aaa9-fe2702f94cd1",
   "metadata": {},
   "source": [
    "### Constants\n",
    "Constants are values that are bound to a name and are not allowed to change.\n",
    "You are not allowed to use keyword `mut` with constants."
   ]
  },
  {
   "cell_type": "code",
   "execution_count": null,
   "id": "1ade841e-793e-46ff-9bc1-8c1ca93d4a77",
   "metadata": {},
   "outputs": [
    {
     "name": "stdout",
     "output_type": "stream",
     "text": [
      "5\n"
     ]
    },
    {
     "data": {
      "text/plain": [
       "()"
      ]
     },
     "execution_count": 11,
     "metadata": {},
     "output_type": "execute_result"
    }
   ],
   "source": [
    "{\n",
    "    const Y: i32 = 5;\n",
    "    println!(\"{}\", Y);\n",
    "}"
   ]
  },
  {
   "cell_type": "code",
   "execution_count": null,
   "id": "29a2b721-739b-47c9-a498-85e54edb8491",
   "metadata": {},
   "outputs": [
    {
     "ename": "Error",
     "evalue": "const globals cannot be mutable",
     "output_type": "error",
     "traceback": [
      "\u001b[31mError:\u001b[0m const globals cannot be mutable",
      "   \u001b[38;5;246m╭\u001b[0m\u001b[38;5;246m─\u001b[0m\u001b[38;5;246m[\u001b[0mcommand_10:1:1\u001b[38;5;246m]\u001b[0m",
      "   \u001b[38;5;246m│\u001b[0m",
      " \u001b[38;5;246m2 │\u001b[0m \u001b[38;5;249m \u001b[0m\u001b[38;5;249m \u001b[0m\u001b[38;5;249m \u001b[0m\u001b[38;5;249m \u001b[0m\u001b[38;5;100mc\u001b[0m\u001b[38;5;100mo\u001b[0m\u001b[38;5;100mn\u001b[0m\u001b[38;5;100ms\u001b[0m\u001b[38;5;100mt\u001b[0m\u001b[38;5;249m \u001b[0m\u001b[38;5;54mm\u001b[0m\u001b[38;5;54mu\u001b[0m\u001b[38;5;54mt\u001b[0m\u001b[38;5;249m \u001b[0m\u001b[38;5;249mY\u001b[0m\u001b[38;5;249m:\u001b[0m\u001b[38;5;249m \u001b[0m\u001b[38;5;249mi\u001b[0m\u001b[38;5;249m3\u001b[0m\u001b[38;5;249m2\u001b[0m\u001b[38;5;249m \u001b[0m\u001b[38;5;249m=\u001b[0m\u001b[38;5;249m \u001b[0m\u001b[38;5;249m5\u001b[0m\u001b[38;5;249m;\u001b[0m",
      " \u001b[38;5;240m  │\u001b[0m     \u001b[38;5;100m─\u001b[0m\u001b[38;5;100m─\u001b[0m\u001b[38;5;100m┬\u001b[0m\u001b[38;5;100m─\u001b[0m\u001b[38;5;100m─\u001b[0m \u001b[38;5;54m─\u001b[0m\u001b[38;5;54m┬\u001b[0m\u001b[38;5;54m─\u001b[0m  ",
      " \u001b[38;5;240m  │\u001b[0m       \u001b[38;5;100m╰\u001b[0m\u001b[38;5;100m─\u001b[0m\u001b[38;5;100m─\u001b[0m\u001b[38;5;100m─\u001b[0m\u001b[38;5;100m─\u001b[0m\u001b[38;5;100m─\u001b[0m\u001b[38;5;100m─\u001b[0m\u001b[38;5;100m─\u001b[0m\u001b[38;5;100m─\u001b[0m help: you might want to declare a static instead: `static`",
      " \u001b[38;5;240m  │\u001b[0m            \u001b[38;5;54m│\u001b[0m   ",
      " \u001b[38;5;240m  │\u001b[0m            \u001b[38;5;54m╰\u001b[0m\u001b[38;5;54m─\u001b[0m\u001b[38;5;54m─\u001b[0m\u001b[38;5;54m─\u001b[0m cannot be mutable",
      "\u001b[38;5;246m───╯\u001b[0m"
     ]
    }
   ],
   "source": [
    "{\n",
    "    const mut Y: i32 = 5;\n",
    "}"
   ]
  },
  {
   "cell_type": "markdown",
   "id": "2ed2e314-da5a-42ea-99a0-cfe8bc674aed",
   "metadata": {},
   "source": [
    "Constant name should be capital letters, you should declare type annotation.\n",
    "You can declare constant in global scope."
   ]
  },
  {
   "cell_type": "code",
   "execution_count": 12,
   "id": "8a7ba926-e1f7-408e-9c4f-f01f698d6a8c",
   "metadata": {},
   "outputs": [
    {
     "name": "stdout",
     "output_type": "stream",
     "text": [
      "3.14\n"
     ]
    },
    {
     "data": {
      "text/plain": [
       "()"
      ]
     },
     "execution_count": 12,
     "metadata": {},
     "output_type": "execute_result"
    }
   ],
   "source": [
    "const PI: f64 = 3.14;\n",
    "{\n",
    "    println!(\"{}\", PI);\n",
    "}"
   ]
  },
  {
   "cell_type": "code",
   "execution_count": 14,
   "id": "c3f63dfb-2eaf-4b75-afa8-a28389d0284a",
   "metadata": {},
   "outputs": [
    {
     "name": "stdout",
     "output_type": "stream",
     "text": [
      "10800\n"
     ]
    },
    {
     "data": {
      "text/plain": [
       "()"
      ]
     },
     "execution_count": 14,
     "metadata": {},
     "output_type": "execute_result"
    }
   ],
   "source": [
    "const THREEE_HOURS_IN_SECONDS: u32 = 60 * 60 * 3;\n",
    "{\n",
    "    println!(\"{}\", THREEE_HOURS_IN_SECONDS);\n",
    "}"
   ]
  },
  {
   "cell_type": "markdown",
   "id": "d36d234d-e30b-4c6e-bda3-0df7551a90ae",
   "metadata": {},
   "source": [
    "## Shadowing\n",
    "You can declare a variable with the same name as a previous variable. The first variable is shadowed by the second variable, which means that the second variable is what the compiler will see when you use the name of the variable. In effect, the second variable overshadows the first, taking anu uses of the variable name to itself until either itself is shadowed or the scope ends. You can shadow a variable by using the same variable name and repeating the use of the `let` keyword."
   ]
  },
  {
   "cell_type": "code",
   "execution_count": 7,
   "id": "5786772a-1154-4086-9f6f-4ea916e08f72",
   "metadata": {},
   "outputs": [
    {
     "name": "stdout",
     "output_type": "stream",
     "text": [
      "The value of x in the inner scope is 12\n",
      "The value of x is : 6\n"
     ]
    },
    {
     "data": {
      "text/plain": [
       "()"
      ]
     },
     "execution_count": 7,
     "metadata": {},
     "output_type": "execute_result"
    }
   ],
   "source": [
    "{\n",
    "    let x = 5; // result is 5\n",
    "\n",
    "    let x = x + 1; // result is 6\n",
    "\n",
    "    {\n",
    "        let x = x * 2; // reulst is 12\n",
    "        println!(\"The value of x in the inner scope is {}\", x);\n",
    "    }\n",
    "\n",
    "    println!(\"The value of x in the main function is : {x}\");\n",
    "}"
   ]
  },
  {
   "cell_type": "markdown",
   "id": "d48abad9-05c2-4e2b-a029-12b9fa8a71be",
   "metadata": {},
   "source": [
    "Shadowing is not the same as marking a variable as mutable."
   ]
  },
  {
   "cell_type": "code",
   "execution_count": null,
   "id": "474bab20-cd0f-4db6-9d42-e8c10ee27d96",
   "metadata": {},
   "outputs": [
    {
     "ename": "Error",
     "evalue": "value assigned to `x` is never read",
     "output_type": "error",
     "traceback": [
      "\u001b[31m[unused_assignments] Error:\u001b[0m value assigned to `x` is never read",
      "   \u001b[38;5;246m╭\u001b[0m\u001b[38;5;246m─\u001b[0m\u001b[38;5;246m[\u001b[0mcommand_9:1:1\u001b[38;5;246m]\u001b[0m",
      "   \u001b[38;5;246m│\u001b[0m",
      " \u001b[38;5;246m4 │\u001b[0m \u001b[38;5;249m \u001b[0m\u001b[38;5;249m \u001b[0m\u001b[38;5;249m \u001b[0m\u001b[38;5;249m \u001b[0m\u001b[38;5;249ml\u001b[0m\u001b[38;5;249me\u001b[0m\u001b[38;5;249mt\u001b[0m\u001b[38;5;249m \u001b[0m\u001b[38;5;54mx\u001b[0m\u001b[38;5;249m \u001b[0m\u001b[38;5;249m=\u001b[0m\u001b[38;5;249m \u001b[0m\u001b[38;5;249mx\u001b[0m\u001b[38;5;249m \u001b[0m\u001b[38;5;249m+\u001b[0m\u001b[38;5;249m \u001b[0m\u001b[38;5;249m1\u001b[0m\u001b[38;5;249m;\u001b[0m\u001b[38;5;249m \u001b[0m\u001b[38;5;249m/\u001b[0m\u001b[38;5;249m/\u001b[0m\u001b[38;5;249m \u001b[0m\u001b[38;5;249mr\u001b[0m\u001b[38;5;249me\u001b[0m\u001b[38;5;249ms\u001b[0m\u001b[38;5;249mu\u001b[0m\u001b[38;5;249ml\u001b[0m\u001b[38;5;249mt\u001b[0m\u001b[38;5;249m \u001b[0m\u001b[38;5;249mi\u001b[0m\u001b[38;5;249ms\u001b[0m\u001b[38;5;249m \u001b[0m\u001b[38;5;249m6\u001b[0m",
      " \u001b[38;5;240m  │\u001b[0m         \u001b[38;5;54m┬\u001b[0m  ",
      " \u001b[38;5;240m  │\u001b[0m         \u001b[38;5;54m╰\u001b[0m\u001b[38;5;54m─\u001b[0m\u001b[38;5;54m─\u001b[0m warning: value assigned to `x` is never read",
      "\u001b[38;5;246m───╯\u001b[0m"
     ]
    },
    {
     "ename": "Error",
     "evalue": "cannot assign twice to immutable variable `x`",
     "output_type": "error",
     "traceback": [
      "\u001b[31m[E0384] Error:\u001b[0m cannot assign twice to immutable variable `x`",
      "   \u001b[38;5;246m╭\u001b[0m\u001b[38;5;246m─\u001b[0m\u001b[38;5;246m[\u001b[0mcommand_9:1:1\u001b[38;5;246m]\u001b[0m",
      "   \u001b[38;5;246m│\u001b[0m",
      " \u001b[38;5;246m4 │\u001b[0m \u001b[38;5;249m \u001b[0m\u001b[38;5;249m \u001b[0m\u001b[38;5;249m \u001b[0m\u001b[38;5;249m \u001b[0m\u001b[38;5;249ml\u001b[0m\u001b[38;5;249me\u001b[0m\u001b[38;5;249mt\u001b[0m\u001b[38;5;249m \u001b[0m\u001b[38;5;54mx\u001b[0m\u001b[38;5;249m \u001b[0m\u001b[38;5;249m=\u001b[0m\u001b[38;5;249m \u001b[0m\u001b[38;5;249mx\u001b[0m\u001b[38;5;249m \u001b[0m\u001b[38;5;249m+\u001b[0m\u001b[38;5;249m \u001b[0m\u001b[38;5;249m1\u001b[0m\u001b[38;5;249m;\u001b[0m\u001b[38;5;249m \u001b[0m\u001b[38;5;249m/\u001b[0m\u001b[38;5;249m/\u001b[0m\u001b[38;5;249m \u001b[0m\u001b[38;5;249mr\u001b[0m\u001b[38;5;249me\u001b[0m\u001b[38;5;249ms\u001b[0m\u001b[38;5;249mu\u001b[0m\u001b[38;5;249ml\u001b[0m\u001b[38;5;249mt\u001b[0m\u001b[38;5;249m \u001b[0m\u001b[38;5;249mi\u001b[0m\u001b[38;5;249ms\u001b[0m\u001b[38;5;249m \u001b[0m\u001b[38;5;249m6\u001b[0m",
      " \u001b[38;5;240m  │\u001b[0m         \u001b[38;5;54m┬\u001b[0m  ",
      " \u001b[38;5;240m  │\u001b[0m         \u001b[38;5;54m╰\u001b[0m\u001b[38;5;54m─\u001b[0m\u001b[38;5;54m─\u001b[0m first assignment to `x`",
      " \u001b[38;5;240m  │\u001b[0m         \u001b[38;5;68m│\u001b[0m  ",
      " \u001b[38;5;240m  │\u001b[0m         \u001b[38;5;68m╰\u001b[0m\u001b[38;5;68m─\u001b[0m\u001b[38;5;68m─\u001b[0m help: consider making this binding mutable: `mut x`",
      " \u001b[38;5;246m5 │\u001b[0m \u001b[38;5;249m \u001b[0m\u001b[38;5;249m \u001b[0m\u001b[38;5;249m \u001b[0m\u001b[38;5;249m \u001b[0m\u001b[38;5;100mx\u001b[0m\u001b[38;5;100m \u001b[0m\u001b[38;5;100m=\u001b[0m\u001b[38;5;100m \u001b[0m\u001b[38;5;100m1\u001b[0m\u001b[38;5;100m0\u001b[0m\u001b[38;5;249m;\u001b[0m\u001b[38;5;249m \u001b[0m\u001b[38;5;249m/\u001b[0m\u001b[38;5;249m/\u001b[0m\u001b[38;5;249m \u001b[0m\u001b[38;5;249mx\u001b[0m\u001b[38;5;249m \u001b[0m\u001b[38;5;249mi\u001b[0m\u001b[38;5;249ms\u001b[0m\u001b[38;5;249m \u001b[0m\u001b[38;5;249mi\u001b[0m\u001b[38;5;249mm\u001b[0m\u001b[38;5;249mm\u001b[0m\u001b[38;5;249mu\u001b[0m\u001b[38;5;249mt\u001b[0m\u001b[38;5;249ma\u001b[0m\u001b[38;5;249mb\u001b[0m\u001b[38;5;249ml\u001b[0m\u001b[38;5;249me\u001b[0m",
      " \u001b[38;5;240m  │\u001b[0m     \u001b[38;5;100m─\u001b[0m\u001b[38;5;100m─\u001b[0m\u001b[38;5;100m─\u001b[0m\u001b[38;5;100m┬\u001b[0m\u001b[38;5;100m─\u001b[0m\u001b[38;5;100m─\u001b[0m  ",
      " \u001b[38;5;240m  │\u001b[0m        \u001b[38;5;100m╰\u001b[0m\u001b[38;5;100m─\u001b[0m\u001b[38;5;100m─\u001b[0m\u001b[38;5;100m─\u001b[0m\u001b[38;5;100m─\u001b[0m cannot assign twice to immutable variable",
      " \u001b[38;5;240m  │\u001b[0m ",
      " \u001b[38;5;240m  │\u001b[0m \u001b[38;5;115mNote\u001b[0m: You can change an existing variable to mutable like: `let mut x = x;`",
      "\u001b[38;5;246m───╯\u001b[0m"
     ]
    }
   ],
   "source": [
    "{\n",
    "    let x = 5; // result is 5\n",
    "\n",
    "    let x = x + 1; // result is 6\n",
    "    x = 10; // x is immutable\n",
    "    {\n",
    "        let x = x * 2; // reulst is 12\n",
    "        println!(\"The value of x in the inner scope is {}\", x);\n",
    "    }\n",
    "\n",
    "    println!(\"The value of x in the main function is : {x}\");\n",
    "}"
   ]
  },
  {
   "cell_type": "markdown",
   "id": "165b85fd-9669-4d9e-bfec-03595dabb023",
   "metadata": {},
   "source": [
    "# Control flow\n",
    "1. Conditions [If ... Else]\n",
    "2. Repeating actions. [Loops]\n",
    "\n",
    "## If Else [If expression][Else expression]"
   ]
  },
  {
   "cell_type": "code",
   "execution_count": 13,
   "id": "7fbcba51-56da-43dc-99d3-dabca014e8eb",
   "metadata": {},
   "outputs": [
    {
     "name": "stdout",
     "output_type": "stream",
     "text": [
      "You can drive a car!\n"
     ]
    },
    {
     "data": {
      "text/plain": [
       "()"
      ]
     },
     "execution_count": 13,
     "metadata": {},
     "output_type": "execute_result"
    }
   ],
   "source": [
    "#![allow(warnings)]\n",
    "{\n",
    "    let age: u16 = 18;\n",
    "    if age >= 18 {\n",
    "        println!(\"You can drive a car!\");\n",
    "    } else {\n",
    "        println!(\"You can't drive a car!\");\n",
    "    }\n",
    "}"
   ]
  },
  {
   "cell_type": "markdown",
   "id": "19d19ded-26c1-485f-824e-a240cde8d754",
   "metadata": {},
   "source": [
    "else if"
   ]
  },
  {
   "cell_type": "code",
   "execution_count": 14,
   "id": "2f962996-700e-4359-b807-11b0869ac61c",
   "metadata": {},
   "outputs": [
    {
     "name": "stdout",
     "output_type": "stream",
     "text": [
      "Number is divisible by 3\n"
     ]
    },
    {
     "data": {
      "text/plain": [
       "()"
      ]
     },
     "execution_count": 14,
     "metadata": {},
     "output_type": "execute_result"
    }
   ],
   "source": [
    "{\n",
    "    let number = 6;\n",
    "    if number % 4 == 0 {\n",
    "        println!(\"Number is divisible by 4\");\n",
    "    } else if number % 3 == 0 {\n",
    "        println!(\"Number is divisible by 3\");\n",
    "    } else if number % 2 == 0 {\n",
    "        println!(\"Number is divisible by 2\");\n",
    "    } else {\n",
    "        println!(\"Number is not divisible by 4, 3, or 2\")\n",
    "    }\n",
    "}\n"
   ]
  },
  {
   "cell_type": "markdown",
   "id": "6b33b105-c983-4b8b-8b31-06a6bdb40c98",
   "metadata": {},
   "source": [
    "Using if in a let statement"
   ]
  },
  {
   "cell_type": "code",
   "execution_count": 16,
   "id": "bd650e12-c77f-4d7d-9f5f-b89118cd8071",
   "metadata": {},
   "outputs": [
    {
     "name": "stdout",
     "output_type": "stream",
     "text": [
      "Number: 5\n"
     ]
    },
    {
     "data": {
      "text/plain": [
       "()"
      ]
     },
     "execution_count": 16,
     "metadata": {},
     "output_type": "execute_result"
    }
   ],
   "source": [
    "{\n",
    "    let condition = true;\n",
    "    let number = if condition {5} else {6};\n",
    "    println!(\"Number: {number}\");\n",
    "}"
   ]
  },
  {
   "cell_type": "markdown",
   "id": "c7732545-61be-4478-ab53-5849b8a04a4e",
   "metadata": {},
   "source": [
    "# Loops\n",
    "Rust provides 3 types of loops\n",
    "- Loop: executes a block of code repeatedly until you tell it to stop, so its unconditional loop\n",
    "- While\n",
    "- For\n",
    "\n",
    "### Loops\n",
    "One of the use case of a loop is to retry an operation you know miught fail, such as checking whether a thread has completed its job. You mightt need to pass the result of the operation out of the loop to the rest of your code. To do this, you can add the value you want returned after the `break` expression."
   ]
  },
  {
   "cell_type": "code",
   "execution_count": 4,
   "id": "99db53c2-4d40-4654-8ba1-1009dce1659d",
   "metadata": {},
   "outputs": [
    {
     "name": "stdout",
     "output_type": "stream",
     "text": [
      "The result is 20\n"
     ]
    },
    {
     "data": {
      "text/plain": [
       "()"
      ]
     },
     "execution_count": 4,
     "metadata": {},
     "output_type": "execute_result"
    }
   ],
   "source": [
    "{\n",
    "    // Loop keyword\n",
    "    // loop {\n",
    "    //     println!(\"Hello, world!\");\n",
    "    // }\n",
    "\n",
    "    let mut counter = 0;\n",
    "\n",
    "    let result = loop {\n",
    "        counter += 1;\n",
    "\n",
    "        if counter == 10 {\n",
    "            break counter * 2;\n",
    "        }\n",
    "    };\n",
    "    println!(\"The result is {result}\");  \n",
    "}"
   ]
  },
  {
   "cell_type": "markdown",
   "id": "0bd710bf-96ac-405a-ab41-fdba47ce606c",
   "metadata": {},
   "source": [
    "#### Loop Labels to Disambiguate between Multiple Loops\n",
    "If you have loops within loops, `break` and `continue` apply to the innermost loop at that point. You can optionally specify a loop label on a loop that you can then use with `break` or `continue` to specify that those keyworkds apply to the labled loop instead of the innermost loop. Loop labels must begin with a single quote"
   ]
  },
  {
   "cell_type": "code",
   "execution_count": null,
   "id": "2e817e7e-7728-4946-aac2-5d391b2236c0",
   "metadata": {},
   "outputs": [
    {
     "name": "stdout",
     "output_type": "stream",
     "text": [
      "count = 0\n",
      "remaining = 10\n",
      "remaining = 9\n",
      "count = 1\n",
      "remaining = 10\n",
      "remaining = 9\n",
      "count = 2\n",
      "remaining = 10\n",
      "End count = 2\n"
     ]
    },
    {
     "data": {
      "text/plain": [
       "()"
      ]
     },
     "execution_count": 5,
     "metadata": {},
     "output_type": "execute_result"
    }
   ],
   "source": [
    "{\n",
    "    let mut count = 0;\n",
    "    'counting_up: loop {\n",
    "        println!(\"count = {count}\");\n",
    "        let mut remaining = 10;\n",
    "\n",
    "        loop {\n",
    "            println!(\"remaining = {remaining}\");\n",
    "            if remaining == 9 {\n",
    "                break;\n",
    "            }\n",
    "            if count == 2 {\n",
    "                break 'counting_up;\n",
    "            }\n",
    "            remaining -= 1;\n",
    "        }\n",
    "\n",
    "        count += 1;\n",
    "    }\n",
    "    println!(\"End count = {count}\");\n",
    "}"
   ]
  },
  {
   "cell_type": "markdown",
   "id": "c0695bf4-147b-4de6-bd97-cc024a7df4c1",
   "metadata": {},
   "source": [
    "### While loop"
   ]
  },
  {
   "cell_type": "code",
   "execution_count": null,
   "id": "edb82ceb-1fa5-4dff-8967-5c76dacb33b1",
   "metadata": {},
   "outputs": [
    {
     "name": "stdout",
     "output_type": "stream",
     "text": [
      "3\n",
      "2\n",
      "1\n"
     ]
    },
    {
     "data": {
      "text/plain": [
       "()"
      ]
     },
     "execution_count": 6,
     "metadata": {},
     "output_type": "execute_result"
    }
   ],
   "source": [
    "{\n",
    "    // While Loop\n",
    "    let mut number = 3;\n",
    "    while number != 0 {\n",
    "        println!(\"{number}\");\n",
    "        number -= 1;\n",
    "    }\n",
    "}"
   ]
  },
  {
   "cell_type": "markdown",
   "id": "32072481-2e2b-4abd-8056-6fd2ba01f955",
   "metadata": {},
   "source": [
    "### For loop"
   ]
  },
  {
   "cell_type": "code",
   "execution_count": 9,
   "id": "0697597c-81df-4f74-8cd5-47227cb844c5",
   "metadata": {},
   "outputs": [
    {
     "name": "stdout",
     "output_type": "stream",
     "text": [
      "1\n",
      "2\n",
      "3\n",
      "4\n",
      "5\n",
      "6\n"
     ]
    },
    {
     "data": {
      "text/plain": [
       "()"
      ]
     },
     "execution_count": 9,
     "metadata": {},
     "output_type": "execute_result"
    }
   ],
   "source": [
    "{\n",
    "    let a = [1, 2, 3, 4, 5, 6];\n",
    "    for element in a {\n",
    "        println!(\"{element}\");\n",
    "    }\n",
    "}    "
   ]
  },
  {
   "cell_type": "code",
   "execution_count": 13,
   "id": "cd9eb6a0-1652-4c53-928a-424764112468",
   "metadata": {},
   "outputs": [
    {
     "name": "stdout",
     "output_type": "stream",
     "text": [
      "1!\n",
      "2!\n",
      "3!\n"
     ]
    },
    {
     "data": {
      "text/plain": [
       "()"
      ]
     },
     "execution_count": 13,
     "metadata": {},
     "output_type": "execute_result"
    }
   ],
   "source": [
    "{\n",
    "    for number in (1..4) {\n",
    "        println!(\"{number}!\");\n",
    "    }\n",
    "}"
   ]
  },
  {
   "cell_type": "code",
   "execution_count": null,
   "id": "ef7c010b-e74c-4eba-a23d-d3e96dd406fa",
   "metadata": {},
   "outputs": [],
   "source": []
  }
 ],
 "metadata": {
  "kernelspec": {
   "display_name": "Rust",
   "language": "rust",
   "name": "rust"
  },
  "language_info": {
   "codemirror_mode": "rust",
   "file_extension": ".rs",
   "mimetype": "text/rust",
   "name": "Rust",
   "pygment_lexer": "rust",
   "version": ""
  }
 },
 "nbformat": 4,
 "nbformat_minor": 5
}
